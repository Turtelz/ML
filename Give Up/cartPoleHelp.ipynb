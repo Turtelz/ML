{
 "cells": [
  {
   "cell_type": "code",
   "execution_count": null,
   "id": "b6217e19",
   "metadata": {},
   "outputs": [],
   "source": [
    "import gym\n",
    "import random\n",
    "import tensorflow as tf\n",
    "from typing import Any, List, Sequence, Tuple\n"
   ]
  },
  {
   "cell_type": "code",
   "execution_count": null,
   "id": "5cfffecb",
   "metadata": {},
   "outputs": [
    {
     "ename": "",
     "evalue": "",
     "output_type": "error",
     "traceback": [
      "\u001b[1;31mThe Kernel crashed while executing code in the the current cell or a previous cell. Please review the code in the cell(s) to identify a possible cause of the failure. Click <a href='https://aka.ms/vscodeJupyterKernelCrash'>here</a> for more info. View Jupyter <a href='command:jupyter.viewOutput'>log</a> for further details."
     ]
    }
   ],
   "source": [
    "env = gym.make('CartPole-v1', new_step_api = True, render_mode='human')\n",
    "env.reset()\n",
    "rewards = []\n",
    "\n",
    "num_actions = env.action_space.n  # 2\n",
    "num_hidden_units = 128\n",
    "\n",
    "for i in range(5):\n",
    "    done = False\n",
    "    env.reset()\n",
    "    total = 0\n",
    "    while(done == False):\n",
    "        state,reward,done,truncated,info = env.step(random.randint(0,1))\n",
    "        total += reward\n",
    "    rewards.append(total)\n",
    "print(rewards)\n",
    "env.close()"
   ]
  },
  {
   "cell_type": "markdown",
   "id": "66791b7a",
   "metadata": {},
   "source": [
    "https://www.tensorflow.org/tutorials/reinforcement_learning/actor_critic\n",
    "so hard to understand\n"
   ]
  }
 ],
 "metadata": {
  "kernelspec": {
   "display_name": "Python 3.9.12 ('tf')",
   "language": "python",
   "name": "python3"
  },
  "language_info": {
   "codemirror_mode": {
    "name": "ipython",
    "version": 3
   },
   "file_extension": ".py",
   "mimetype": "text/x-python",
   "name": "python",
   "nbconvert_exporter": "python",
   "pygments_lexer": "ipython3",
   "version": "3.9.12"
  },
  "vscode": {
   "interpreter": {
    "hash": "ec2c0070c8e2d69798538530e11a671a1e81720516052253d928f78df07512b4"
   }
  }
 },
 "nbformat": 4,
 "nbformat_minor": 5
}
