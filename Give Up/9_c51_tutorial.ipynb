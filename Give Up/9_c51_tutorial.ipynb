{
 "cells": [
  {
   "cell_type": "markdown",
   "metadata": {
    "id": "klGNgWREsvQv"
   },
   "source": [
    "##### Copyright 2021 The TF-Agents Authors."
   ]
  },
  {
   "cell_type": "code",
   "execution_count": 1,
   "metadata": {
    "cellView": "form",
    "execution": {
     "iopub.execute_input": "2022-06-05T11:14:37.997452Z",
     "iopub.status.busy": "2022-06-05T11:14:37.997063Z",
     "iopub.status.idle": "2022-06-05T11:14:38.000769Z",
     "shell.execute_reply": "2022-06-05T11:14:38.000190Z"
    },
    "id": "nQnmcm0oI1Q-"
   },
   "outputs": [],
   "source": [
    "#@title Licensed under the Apache License, Version 2.0 (the \"License\");\n",
    "# you may not use this file except in compliance with the License.\n",
    "# You may obtain a copy of the License at\n",
    "#\n",
    "# https://www.apache.org/licenses/LICENSE-2.0\n",
    "#\n",
    "# Unless required by applicable law or agreed to in writing, software\n",
    "# distributed under the License is distributed on an \"AS IS\" BASIS,\n",
    "# WITHOUT WARRANTIES OR CONDITIONS OF ANY KIND, either express or implied.\n",
    "# See the License for the specific language governing permissions and\n",
    "# limitations under the License."
   ]
  },
  {
   "cell_type": "markdown",
   "metadata": {
    "id": "oMaGpi7TciQs"
   },
   "source": [
    "# DQN C51/Rainbow\n",
    "\n",
    "<table class=\"tfo-notebook-buttons\" align=\"left\">\n",
    "  <td>\n",
    "    <a target=\"_blank\" href=\"https://www.tensorflow.org/agents/tutorials/9_c51_tutorial\">\n",
    "    <img src=\"https://www.tensorflow.org/images/tf_logo_32px.png\" />\n",
    "    View on TensorFlow.org</a>\n",
    "  </td>\n",
    "  <td>\n",
    "    <a target=\"_blank\" href=\"https://colab.research.google.com/github/tensorflow/agents/blob/master/docs/tutorials/9_c51_tutorial.ipynb\">\n",
    "    <img src=\"https://www.tensorflow.org/images/colab_logo_32px.png\" />\n",
    "    Run in Google Colab</a>\n",
    "  </td>\n",
    "  <td>\n",
    "    <a target=\"_blank\" href=\"https://github.com/tensorflow/agents/blob/master/docs/tutorials/9_c51_tutorial.ipynb\">\n",
    "    <img src=\"https://www.tensorflow.org/images/GitHub-Mark-32px.png\" />\n",
    "    View source on GitHub</a>\n",
    "  </td>\n",
    "  <td>\n",
    "    <a href=\"https://storage.googleapis.com/tensorflow_docs/agents/docs/tutorials/9_c51_tutorial.ipynb\"><img src=\"https://www.tensorflow.org/images/download_logo_32px.png\" />Download notebook</a>\n",
    "  </td>\n",
    "</table>"
   ]
  },
  {
   "cell_type": "markdown",
   "metadata": {
    "id": "ZOUOQOrFs3zn"
   },
   "source": [
    "## Introduction"
   ]
  },
  {
   "cell_type": "markdown",
   "metadata": {
    "id": "cKOCZlhUgXVK"
   },
   "source": [
    "This example shows how to train a [Categorical DQN (C51)](https://arxiv.org/pdf/1707.06887.pdf) agent on the Cartpole environment using the TF-Agents library.\n",
    "\n",
    "![Cartpole environment](https://github.com/tensorflow/agents/blob/master/docs/tutorials/images/cartpole.png?raw=1)\n",
    "\n",
    "Make sure you take a look through the [DQN tutorial](https://github.com/tensorflow/agents/blob/master/docs/tutorials/1_dqn_tutorial.ipynb) as a prerequisite. This tutorial will assume familiarity with the DQN tutorial; it will mainly focus on the differences between DQN and C51.\n"
   ]
  },
  {
   "cell_type": "markdown",
   "metadata": {
    "id": "lsaQlK8fFQqH"
   },
   "source": [
    "## Setup\n"
   ]
  },
  {
   "cell_type": "markdown",
   "metadata": {
    "id": "-NzBsZzPcyBm"
   },
   "source": [
    "If you haven't installed tf-agents yet, run:"
   ]
  },
  {
   "cell_type": "code",
   "execution_count": 2,
   "metadata": {
    "execution": {
     "iopub.execute_input": "2022-06-05T11:14:38.004213Z",
     "iopub.status.busy": "2022-06-05T11:14:38.003716Z",
     "iopub.status.idle": "2022-06-05T11:15:08.155425Z",
     "shell.execute_reply": "2022-06-05T11:15:08.154644Z"
    },
    "id": "KEHR2Ui-lo8O"
   },
   "outputs": [
    {
     "name": "stdout",
     "output_type": "stream",
     "text": [
      "\r\n",
      "0% [Working]"
     ]
    },
    {
     "name": "stdout",
     "output_type": "stream",
     "text": [
      "\r\n",
      "            \r\n",
      "Hit:1 http://us-central1.gce.archive.ubuntu.com/ubuntu focal InRelease\r\n",
      "\r\n",
      "0% [Connecting to security.ubuntu.com (185.125.190.39)] [Connecting to ppa.laun\r\n",
      "                                                                               \r\n",
      "Hit:2 http://us-central1.gce.archive.ubuntu.com/ubuntu focal-updates InRelease\r\n",
      "\r\n",
      "                                                                               \r\n",
      "Hit:3 http://us-central1.gce.archive.ubuntu.com/ubuntu focal-backports InRelease\r\n",
      "\r\n",
      "0% [Connecting to security.ubuntu.com (185.125.190.39)] [Connecting to develope\r\n",
      "                                                                               \r\n",
      "Hit:4 http://developer.download.nvidia.com/compute/cuda/repos/ubuntu1804/x86_64  InRelease\r\n",
      "\r\n",
      "0% [Connecting to security.ubuntu.com (185.125.190.39)] [Connecting to ppa.laun\r\n",
      "                                                                               \r\n",
      "Get:5 https://nvidia.github.io/libnvidia-container/stable/ubuntu18.04/amd64  InRelease [1484 B]\r\n",
      "\r\n",
      "0% [Connecting to security.ubuntu.com (185.125.190.39)] [Waiting for headers] [\r\n",
      "0% [Connecting to security.ubuntu.com (185.125.190.39)] [Waiting for headers] ["
     ]
    },
    {
     "name": "stdout",
     "output_type": "stream",
     "text": [
      "\r\n",
      "                                                                               \r\n",
      "Hit:6 https://download.docker.com/linux/ubuntu focal InRelease\r\n",
      "\r\n",
      "0% [Connecting to security.ubuntu.com (185.125.190.39)] [Waiting for headers] [\r\n",
      "                                                                               \r\n",
      "Get:7 https://nvidia.github.io/nvidia-container-runtime/stable/ubuntu18.04/amd64  InRelease [1481 B]\r\n",
      "\r\n",
      "0% [Connecting to security.ubuntu.com (185.125.190.39)] [Waiting for headers] [\r\n",
      "                                                                               \r\n",
      "Get:8 https://nvidia.github.io/nvidia-docker/ubuntu18.04/amd64  InRelease [1474 B]\r\n",
      "\r\n",
      "0% [Connecting to security.ubuntu.com (185.125.190.39)] [Waiting for headers] [\r\n",
      "0% [Connecting to security.ubuntu.com (185.125.190.39)] [Waiting for headers] ["
     ]
    },
    {
     "name": "stdout",
     "output_type": "stream",
     "text": [
      "\r\n",
      "                                                                               \r\n",
      "0% [Waiting for headers] [Waiting for headers] [Waiting for headers]\r\n",
      "                                                                    \r\n",
      "Ign:9 http://developer.download.nvidia.com/compute/machine-learning/repos/ubuntu1804/x86_64  InRelease\r\n",
      "\r\n",
      "                                                                    \r\n",
      "0% [Waiting for headers] [Waiting for headers]\r\n",
      "                                              \r\n",
      "Hit:10 http://developer.download.nvidia.com/compute/machine-learning/repos/ubuntu1804/x86_64  Release\r\n",
      "\r\n",
      "0% [Waiting for headers] [Waiting for headers]"
     ]
    },
    {
     "name": "stdout",
     "output_type": "stream",
     "text": [
      "\r\n",
      "0% [Waiting for headers] [Connecting to apt.llvm.org] [Waiting for headers]\r\n",
      "                                                                           \r\n",
      "Get:11 http://security.ubuntu.com/ubuntu focal-security InRelease [114 kB]\r\n",
      "\r\n",
      "0% [11 InRelease 12.6 kB/114 kB 11%] [Connecting to apt.llvm.org (199.232.194.4\r\n",
      "                                                                               \r\n",
      "Hit:12 http://ppa.launchpad.net/deadsnakes/ppa/ubuntu focal InRelease\r\n",
      "\r\n",
      "0% [11 InRelease 12.6 kB/114 kB 11%] [Connecting to apt.llvm.org (199.232.194.4\r\n",
      "0% [11 InRelease 12.6 kB/114 kB 11%] [Connecting to ppa.launchpad.net (185.125."
     ]
    },
    {
     "name": "stdout",
     "output_type": "stream",
     "text": [
      "\r\n",
      "0% [11 InRelease 12.6 kB/114 kB 11%] [Connecting to ppa.launchpad.net (185.125."
     ]
    },
    {
     "name": "stdout",
     "output_type": "stream",
     "text": [
      "\r\n",
      "                                                                               \r\n",
      "0% [11 InRelease 33.2 kB/114 kB 29%] [Waiting for headers]"
     ]
    },
    {
     "name": "stdout",
     "output_type": "stream",
     "text": [
      "\r\n",
      "                                                          \r\n",
      "Hit:14 http://ppa.launchpad.net/longsleep/golang-backports/ubuntu focal InRelease\r\n",
      "\r\n",
      "0% [11 InRelease 38.3 kB/114 kB 34%] [Connecting to ppa.launchpad.net (185.125."
     ]
    },
    {
     "name": "stdout",
     "output_type": "stream",
     "text": [
      "\r\n",
      "0% [Connected to apt.llvm.org (199.232.198.49)] [11 InRelease 55.1 kB/114 kB 48\r\n",
      "                                                                               \r\n",
      "Hit:13 https://apt.llvm.org/focal llvm-toolchain-focal-14 InRelease\r\n",
      "\r\n",
      "0% [11 InRelease 68.0 kB/114 kB 60%] [Connecting to ppa.launchpad.net (185.125."
     ]
    },
    {
     "name": "stdout",
     "output_type": "stream",
     "text": [
      "\r\n",
      "                                                                               \r\n",
      "0% [11 InRelease 95.0 kB/114 kB 83%] [Waiting for headers]\r\n",
      "                                                          \r\n",
      "0% [Waiting for headers]"
     ]
    },
    {
     "name": "stdout",
     "output_type": "stream",
     "text": [
      "\r\n",
      "                        \r\n",
      "Hit:15 http://ppa.launchpad.net/openjdk-r/ppa/ubuntu focal InRelease\r\n",
      "\r\n",
      "                        \r\n",
      "0% [Working]"
     ]
    },
    {
     "name": "stdout",
     "output_type": "stream",
     "text": [
      "\r\n",
      "0% [Working]"
     ]
    },
    {
     "name": "stdout",
     "output_type": "stream",
     "text": [
      "\r\n",
      "0% [Working]"
     ]
    },
    {
     "name": "stdout",
     "output_type": "stream",
     "text": [
      "\r\n",
      "0% [Working]"
     ]
    },
    {
     "name": "stdout",
     "output_type": "stream",
     "text": [
      "\r\n",
      "0% [Working]"
     ]
    },
    {
     "name": "stdout",
     "output_type": "stream",
     "text": [
      "\r\n",
      "0% [Working]"
     ]
    },
    {
     "name": "stdout",
     "output_type": "stream",
     "text": [
      "\r\n",
      "0% [Working]"
     ]
    },
    {
     "name": "stdout",
     "output_type": "stream",
     "text": [
      "\r\n",
      "100% [Working]\r\n",
      "              \r\n",
      "Fetched 118 kB in 1s (90.3 kB/s)\r\n"
     ]
    },
    {
     "name": "stdout",
     "output_type": "stream",
     "text": [
      "\r\n",
      "Reading package lists... 0%\r\n",
      "\r\n",
      "Reading package lists... 0%\r\n",
      "\r\n",
      "Reading package lists... 0%\r"
     ]
    },
    {
     "name": "stdout",
     "output_type": "stream",
     "text": [
      "\r\n",
      "Reading package lists... 3%\r\n",
      "\r\n",
      "Reading package lists... 3%\r\n",
      "\r\n",
      "Reading package lists... 5%\r\n",
      "\r\n",
      "Reading package lists... 5%\r\n",
      "\r\n",
      "Reading package lists... 5%\r\n",
      "\r\n",
      "Reading package lists... 5%\r\n",
      "\r\n",
      "Reading package lists... 5%\r\n",
      "\r\n",
      "Reading package lists... 5%\r"
     ]
    },
    {
     "name": "stdout",
     "output_type": "stream",
     "text": [
      "\r\n",
      "Reading package lists... 38%\r\n",
      "\r\n",
      "Reading package lists... 38%\r"
     ]
    },
    {
     "name": "stdout",
     "output_type": "stream",
     "text": [
      "\r\n",
      "Reading package lists... 55%\r\n",
      "\r\n",
      "Reading package lists... 55%\r\n",
      "\r\n",
      "Reading package lists... 56%\r\n",
      "\r\n",
      "Reading package lists... 56%\r\n",
      "\r\n",
      "Reading package lists... 56%\r\n",
      "\r\n",
      "Reading package lists... 56%\r"
     ]
    },
    {
     "name": "stdout",
     "output_type": "stream",
     "text": [
      "\r\n",
      "Reading package lists... 63%\r\n",
      "\r\n",
      "Reading package lists... 63%\r"
     ]
    },
    {
     "name": "stdout",
     "output_type": "stream",
     "text": [
      "\r\n",
      "Reading package lists... 67%\r\n",
      "\r\n",
      "Reading package lists... 67%\r\n",
      "\r\n",
      "Reading package lists... 71%\r\n",
      "\r\n",
      "Reading package lists... 71%\r\n",
      "\r\n",
      "Reading package lists... 72%\r\n",
      "\r\n",
      "Reading package lists... 72%\r"
     ]
    },
    {
     "name": "stdout",
     "output_type": "stream",
     "text": [
      "\r\n",
      "Reading package lists... 76%\r\n",
      "\r\n",
      "Reading package lists... 76%\r\n",
      "\r\n",
      "Reading package lists... 77%\r\n",
      "\r\n",
      "Reading package lists... 77%\r\n",
      "\r\n",
      "Reading package lists... 77%\r\n",
      "\r\n",
      "Reading package lists... 77%\r\n",
      "\r\n",
      "Reading package lists... 77%\r\n",
      "\r\n",
      "Reading package lists... 77%\r\n",
      "\r\n",
      "Reading package lists... 77%\r\n",
      "\r\n",
      "Reading package lists... 77%\r\n",
      "\r\n",
      "Reading package lists... 77%\r\n",
      "\r\n",
      "Reading package lists... 77%\r\n",
      "\r\n",
      "Reading package lists... 77%\r\n",
      "\r\n",
      "Reading package lists... 77%\r\n",
      "\r\n",
      "Reading package lists... 77%\r\n",
      "\r\n",
      "Reading package lists... 77%\r"
     ]
    },
    {
     "name": "stdout",
     "output_type": "stream",
     "text": [
      "\r\n",
      "Reading package lists... 83%\r\n",
      "\r\n",
      "Reading package lists... 83%\r\n",
      "\r\n",
      "Reading package lists... 86%\r\n",
      "\r\n",
      "Reading package lists... 86%\r\n",
      "\r\n",
      "Reading package lists... 88%\r\n",
      "\r\n",
      "Reading package lists... 90%\r\n",
      "\r\n",
      "Reading package lists... 90%\r\n",
      "\r\n",
      "Reading package lists... 91%\r\n",
      "\r\n",
      "Reading package lists... 91%\r\n",
      "\r\n",
      "Reading package lists... 94%\r\n",
      "\r\n",
      "Reading package lists... 94%\r\n",
      "\r\n",
      "Reading package lists... 95%\r\n",
      "\r\n",
      "Reading package lists... 95%\r\n",
      "\r\n",
      "Reading package lists... 95%\r\n",
      "\r\n",
      "Reading package lists... 95%\r\n",
      "\r\n",
      "Reading package lists... 95%\r\n",
      "\r\n",
      "Reading package lists... 95%\r\n",
      "\r\n",
      "Reading package lists... 95%\r\n",
      "\r\n",
      "Reading package lists... 95%\r"
     ]
    },
    {
     "name": "stdout",
     "output_type": "stream",
     "text": [
      "\r\n",
      "Reading package lists... 98%\r\n",
      "\r\n",
      "Reading package lists... 98%\r\n",
      "\r\n",
      "Reading package lists... 98%\r\n",
      "\r\n",
      "Reading package lists... 98%\r\n",
      "\r\n",
      "Reading package lists... 98%\r\n",
      "\r\n",
      "Reading package lists... 98%\r\n",
      "\r\n",
      "Reading package lists... 98%\r\n",
      "\r\n",
      "Reading package lists... 98%\r\n",
      "\r\n",
      "Reading package lists... 98%\r\n",
      "\r\n",
      "Reading package lists... 98%\r\n",
      "\r\n",
      "Reading package lists... 98%\r\n",
      "\r\n",
      "Reading package lists... 98%\r\n",
      "\r\n",
      "Reading package lists... 98%\r\n",
      "\r\n",
      "Reading package lists... 98%\r\n",
      "\r\n",
      "Reading package lists... 98%\r\n",
      "\r\n",
      "Reading package lists... 98%\r\n",
      "\r\n",
      "Reading package lists... 98%\r\n",
      "\r\n",
      "Reading package lists... 98%\r\n",
      "\r\n",
      "Reading package lists... 99%\r\n",
      "\r\n",
      "Reading package lists... 99%\r\n",
      "\r\n",
      "Reading package lists... 99%\r\n",
      "\r\n",
      "Reading package lists... 99%\r"
     ]
    },
    {
     "name": "stdout",
     "output_type": "stream",
     "text": [
      "\r\n",
      "Reading package lists... 99%\r\n",
      "\r\n",
      "Reading package lists... 99%\r"
     ]
    },
    {
     "name": "stdout",
     "output_type": "stream",
     "text": [
      "\r\n",
      "Reading package lists... Done\r\n",
      "\r\n"
     ]
    },
    {
     "name": "stdout",
     "output_type": "stream",
     "text": [
      "\r\n",
      "Reading package lists... 0%\r"
     ]
    },
    {
     "name": "stdout",
     "output_type": "stream",
     "text": [
      "\r\n",
      "Reading package lists... 100%\r\n",
      "\r\n",
      "Reading package lists... Done\r\n",
      "\r\n",
      "\r\n",
      "Building dependency tree... 0%\r\n",
      "\r\n",
      "Building dependency tree... 0%\r\n",
      "\r\n",
      "Building dependency tree... 50%\r\n",
      "\r\n",
      "Building dependency tree... 50%\r"
     ]
    },
    {
     "name": "stdout",
     "output_type": "stream",
     "text": [
      "\r\n",
      "Building dependency tree       \r\n",
      "\r\n",
      "\r\n",
      "Reading state information... 0%\r\n",
      "\r\n",
      "Reading state information... 0%\r\n",
      "\r\n",
      "Reading state information... Done\r\n",
      "\r\n",
      "freeglut3-dev is already the newest version (2.8.1-3).\r\n"
     ]
    },
    {
     "name": "stdout",
     "output_type": "stream",
     "text": [
      "The following packages were automatically installed and are no longer required:\r\n",
      "  libatasmart4 libblockdev-fs2 libblockdev-loop2 libblockdev-part-err2\r\n",
      "  libblockdev-part2 libblockdev-swap2 libblockdev-utils2 libblockdev2\r\n",
      "  libparted-fs-resize0\r\n",
      "Use 'sudo apt autoremove' to remove them.\r\n",
      "The following additional packages will be installed:\r\n",
      "  i965-va-driver intel-media-va-driver libaacs0 libaom0 libass9 libavcodec58\r\n",
      "  libavdevice58 libavfilter7 libavformat58 libavresample4 libavutil56\r\n",
      "  libbdplus0 libbluray2 libbs2b0 libcdio-cdda2 libcdio-paranoia2 libcdio18\r\n",
      "  libchromaprint1 libcodec2-0.9 libdc1394-22 libfftw3-double3 libflite1\r\n",
      "  libgme0 libgsm1 libigdgmm11 liblilv-0-0 libmysofa1 libopenal-data libopenal1\r\n",
      "  libopenmpt0 libpostproc55 librubberband2 libsdl2-2.0-0 libserd-0-0 libshine3\r\n",
      "  libsnappy1v5 libsndio7.0 libsord-0-0 libsratom-0-0 libssh-gcrypt-4\r\n",
      "  libswresample3 libswscale5 libva-drm2 libva-x11-2 libva2 libvidstab1.1\r\n",
      "  libwebpmux3 libx264-155 libx265-179 libxvidcore4 libzvbi-common libzvbi0\r\n",
      "  mesa-va-drivers ocl-icd-libopencl1 va-driver-all\r\n",
      "Suggested packages:\r\n",
      "  ffmpeg-doc i965-va-driver-shaders libbluray-bdj libfftw3-bin libfftw3-dev\r\n",
      "  libportaudio2 serdi sndiod sordi\r\n"
     ]
    },
    {
     "name": "stdout",
     "output_type": "stream",
     "text": [
      "The following NEW packages will be installed:\r\n",
      "  ffmpeg i965-va-driver intel-media-va-driver libaacs0 libaom0 libass9\r\n",
      "  libavcodec58 libavdevice58 libavfilter7 libavformat58 libavresample4\r\n",
      "  libavutil56 libbdplus0 libbluray2 libbs2b0 libcdio-cdda2 libcdio-paranoia2\r\n",
      "  libcdio18 libchromaprint1 libcodec2-0.9 libdc1394-22 libfftw3-double3\r\n",
      "  libflite1 libgme0 libgsm1 libigdgmm11 liblilv-0-0 libmysofa1 libopenal-data\r\n",
      "  libopenal1 libopenmpt0 libpostproc55 librubberband2 libsdl2-2.0-0\r\n",
      "  libserd-0-0 libshine3 libsnappy1v5 libsndio7.0 libsord-0-0 libsratom-0-0\r\n",
      "  libssh-gcrypt-4 libswresample3 libswscale5 libva-drm2 libva-x11-2 libva2\r\n",
      "  libvidstab1.1 libwebpmux3 libx264-155 libx265-179 libxvidcore4\r\n",
      "  libzvbi-common libzvbi0 mesa-va-drivers ocl-icd-libopencl1 va-driver-all\r\n",
      "  xvfb\r\n"
     ]
    },
    {
     "name": "stdout",
     "output_type": "stream",
     "text": [
      "0 upgraded, 57 newly installed, 0 to remove and 134 not upgraded.\r\n"
     ]
    },
    {
     "name": "stdout",
     "output_type": "stream",
     "text": [
      "Need to get 43.2 MB of archives.\r\n",
      "After this operation, 159 MB of additional disk space will be used.\r\n",
      "\r\n",
      "0% [Working]\r\n",
      "            \r\n",
      "Get:1 http://us-central1.gce.archive.ubuntu.com/ubuntu focal/universe amd64 libaom0 amd64 1.0.0.errata1-3build1 [1160 kB]\r\n",
      "\r\n",
      "0% [1 libaom0 12.3 kB/1160 kB 1%]\r\n",
      "                                 \r\n",
      "2% [Working]\r\n",
      "            \r\n",
      "Get:2 http://us-central1.gce.archive.ubuntu.com/ubuntu focal/universe amd64 libva2 amd64 2.7.0-2 [53.5 kB]\r\n",
      "\r\n",
      "3% [2 libva2 12.3 kB/53.5 kB 23%]"
     ]
    },
    {
     "name": "stdout",
     "output_type": "stream",
     "text": [
      "\r\n",
      "                                 \r\n",
      "3% [Waiting for headers]\r\n",
      "                        \r\n",
      "Get:3 http://us-central1.gce.archive.ubuntu.com/ubuntu focal/universe amd64 libva-drm2 amd64 2.7.0-2 [7044 B]\r\n",
      "\r\n",
      "3% [3 libva-drm2 7044 B/7044 B 100%]\r\n",
      "                                    \r\n",
      "3% [Waiting for headers]\r\n",
      "                        \r\n",
      "Get:4 http://us-central1.gce.archive.ubuntu.com/ubuntu focal/universe amd64 libva-x11-2 amd64 2.7.0-2 [11.9 kB]\r\n",
      "\r\n",
      "3% [4 libva-x11-2 11.9 kB/11.9 kB 100%]\r\n",
      "                                       \r\n",
      "4% [Waiting for headers]\r\n",
      "                        \r\n",
      "Get:5 http://us-central1.gce.archive.ubuntu.com/ubuntu focal/main amd64 ocl-icd-libopencl1 amd64 2.2.11-1ubuntu1 [30.3 kB]\r\n",
      "\r\n",
      "4% [5 ocl-icd-libopencl1 10.5 kB/30.3 kB 34%]\r\n",
      "                                             \r\n",
      "4% [Waiting for headers]\r\n",
      "                        \r\n",
      "Get:6 http://us-central1.gce.archive.ubuntu.com/ubuntu focal-updates/universe amd64 libavutil56 amd64 7:4.2.4-1ubuntu0.1 [241 kB]\r\n",
      "\r\n",
      "4% [6 libavutil56 12.3 kB/241 kB 5%]\r\n",
      "                                    \r\n",
      "5% [Waiting for headers]\r\n",
      "                        \r\n",
      "Get:7 http://us-central1.gce.archive.ubuntu.com/ubuntu focal/universe amd64 libcodec2-0.9 amd64 0.9.2-2 [7886 kB]\r\n",
      "\r\n",
      "5% [7 libcodec2-0.9 12.3 kB/7886 kB 0%]"
     ]
    },
    {
     "name": "stdout",
     "output_type": "stream",
     "text": [
      "\r\n",
      "                                       \r\n",
      "20% [Waiting for headers]"
     ]
    },
    {
     "name": "stdout",
     "output_type": "stream",
     "text": [
      "\r\n",
      "                         \r\n",
      "Get:8 http://us-central1.gce.archive.ubuntu.com/ubuntu focal/universe amd64 libgsm1 amd64 1.0.18-2 [24.4 kB]\r\n",
      "\r\n",
      "20% [8 libgsm1 12.3 kB/24.4 kB 50%]\r\n",
      "                                   \r\n",
      "20% [Waiting for headers]\r\n",
      "                         \r\n",
      "Get:9 http://us-central1.gce.archive.ubuntu.com/ubuntu focal/universe amd64 libshine3 amd64 3.1.1-2 [23.2 kB]\r\n",
      "\r\n",
      "20% [9 libshine3 12.3 kB/23.2 kB 53%]\r\n",
      "                                     \r\n",
      "21% [Waiting for headers]\r\n",
      "                         \r\n",
      "Get:10 http://us-central1.gce.archive.ubuntu.com/ubuntu focal/main amd64 libsnappy1v5 amd64 1.1.8-1build1 [16.7 kB]\r\n",
      "\r\n",
      "21% [10 libsnappy1v5 12.3 kB/16.7 kB 74%]\r\n",
      "                                         \r\n",
      "21% [Waiting for headers]\r\n",
      "                         \r\n",
      "Get:11 http://us-central1.gce.archive.ubuntu.com/ubuntu focal-updates/universe amd64 libswresample3 amd64 7:4.2.4-1ubuntu0.1 [57.1 kB]\r\n",
      "\r\n",
      "21% [11 libswresample3 12.3 kB/57.1 kB 21%]\r\n",
      "                                           \r\n",
      "21% [Waiting for headers]\r\n",
      "                         \r\n",
      "Get:12 http://us-central1.gce.archive.ubuntu.com/ubuntu focal-updates/main amd64 libwebpmux3 amd64 0.6.1-2ubuntu0.20.04.1 [19.5 kB]\r\n",
      "\r\n",
      "21% [12 libwebpmux3 12.3 kB/19.5 kB 63%]\r\n",
      "                                        \r\n",
      "22% [Waiting for headers]"
     ]
    },
    {
     "name": "stdout",
     "output_type": "stream",
     "text": [
      "\r\n",
      "                         \r\n",
      "Get:13 http://us-central1.gce.archive.ubuntu.com/ubuntu focal/universe amd64 libx264-155 amd64 2:0.155.2917+git0a84d98-2 [521 kB]\r\n",
      "\r\n",
      "22% [13 libx264-155 12.3 kB/521 kB 2%]\r\n",
      "                                      \r\n",
      "23% [Waiting for headers]\r\n",
      "                         \r\n",
      "Get:14 http://us-central1.gce.archive.ubuntu.com/ubuntu focal/universe amd64 libx265-179 amd64 3.2.1-1build1 [1060 kB]\r\n",
      "\r\n",
      "23% [14 libx265-179 12.3 kB/1060 kB 1%]\r\n",
      "                                       \r\n",
      "25% [Waiting for headers]\r\n",
      "                         \r\n",
      "Get:15 http://us-central1.gce.archive.ubuntu.com/ubuntu focal/universe amd64 libxvidcore4 amd64 2:1.3.7-1 [201 kB]\r\n",
      "\r\n",
      "26% [15 libxvidcore4 23.1 kB/201 kB 11%]\r\n",
      "                                        \r\n",
      "26% [Waiting for headers]\r\n",
      "                         \r\n",
      "Get:16 http://us-central1.gce.archive.ubuntu.com/ubuntu focal/universe amd64 libzvbi-common all 0.2.35-17 [32.5 kB]\r\n",
      "\r\n",
      "26% [16 libzvbi-common 12.3 kB/32.5 kB 38%]\r\n",
      "                                           \r\n",
      "27% [Waiting for headers]\r\n",
      "                         \r\n",
      "Get:17 http://us-central1.gce.archive.ubuntu.com/ubuntu focal/universe amd64 libzvbi0 amd64 0.2.35-17 [237 kB]\r\n",
      "\r\n",
      "27% [17 libzvbi0 12.3 kB/237 kB 5%]\r\n",
      "                                   \r\n",
      "27% [Waiting for headers]\r\n",
      "                         \r\n",
      "Get:18 http://us-central1.gce.archive.ubuntu.com/ubuntu focal-updates/universe amd64 libavcodec58 amd64 7:4.2.4-1ubuntu0.1 [4876 kB]\r\n",
      "\r\n",
      "27% [18 libavcodec58 9504 B/4876 kB 0%]"
     ]
    },
    {
     "name": "stdout",
     "output_type": "stream",
     "text": [
      "\r\n",
      "                                       \r\n",
      "37% [Waiting for headers]\r\n",
      "                         \r\n",
      "Get:19 http://us-central1.gce.archive.ubuntu.com/ubuntu focal/universe amd64 libass9 amd64 1:0.14.0-2 [88.0 kB]\r\n",
      "\r\n",
      "37% [19 libass9 47.8 kB/88.0 kB 54%]\r\n",
      "                                    \r\n",
      "37% [Waiting for headers]\r\n",
      "                         \r\n",
      "Get:20 http://us-central1.gce.archive.ubuntu.com/ubuntu focal/universe amd64 libbluray2 amd64 1:1.2.0-1 [138 kB]\r\n",
      "\r\n",
      "37% [20 libbluray2 24.9 kB/138 kB 18%]\r\n",
      "                                      \r\n",
      "38% [Waiting for headers]\r\n",
      "                         \r\n",
      "Get:21 http://us-central1.gce.archive.ubuntu.com/ubuntu focal/universe amd64 libchromaprint1 amd64 1.4.3-3build1 [37.6 kB]\r\n",
      "\r\n",
      "38% [21 libchromaprint1 17.6 kB/37.6 kB 47%]\r\n",
      "                                            \r\n",
      "38% [Working]\r\n",
      "             \r\n",
      "Get:22 http://us-central1.gce.archive.ubuntu.com/ubuntu focal/universe amd64 libgme0 amd64 0.6.2-1build1 [123 kB]\r\n",
      "\r\n",
      "38% [22 libgme0 4096 B/123 kB 3%]\r\n",
      "                                 \r\n",
      "39% [Working]\r\n",
      "             \r\n",
      "Get:23 http://us-central1.gce.archive.ubuntu.com/ubuntu focal/universe amd64 libopenmpt0 amd64 0.4.11-1build1 [599 kB]\r\n",
      "\r\n",
      "39% [23 libopenmpt0 12.3 kB/599 kB 2%]\r\n",
      "                                      \r\n",
      "40% [Waiting for headers]"
     ]
    },
    {
     "name": "stdout",
     "output_type": "stream",
     "text": [
      "\r\n",
      "                         \r\n",
      "Get:24 http://us-central1.gce.archive.ubuntu.com/ubuntu focal-updates/main amd64 libssh-gcrypt-4 amd64 0.9.3-2ubuntu2.2 [202 kB]\r\n",
      "\r\n",
      "40% [24 libssh-gcrypt-4 12.3 kB/202 kB 6%]\r\n",
      "                                          \r\n",
      "41% [Waiting for headers]\r\n",
      "                         \r\n",
      "Get:25 http://us-central1.gce.archive.ubuntu.com/ubuntu focal-updates/universe amd64 libavformat58 amd64 7:4.2.4-1ubuntu0.1 [981 kB]\r\n",
      "\r\n",
      "41% [25 libavformat58 12.3 kB/981 kB 1%]\r\n",
      "                                        \r\n",
      "43% [Waiting for headers]"
     ]
    },
    {
     "name": "stdout",
     "output_type": "stream",
     "text": [
      "\r\n",
      "                         \r\n",
      "Get:26 http://us-central1.gce.archive.ubuntu.com/ubuntu focal/universe amd64 libbs2b0 amd64 3.1.0+dfsg-2.2build1 [10.2 kB]\r\n",
      "\r\n",
      "43% [26 libbs2b0 10.2 kB/10.2 kB 100%]\r\n",
      "                                      \r\n",
      "44% [Waiting for headers]\r\n",
      "                         \r\n",
      "Get:27 http://us-central1.gce.archive.ubuntu.com/ubuntu focal/universe amd64 libflite1 amd64 2.1-release-3 [12.8 MB]\r\n",
      "\r\n",
      "44% [27 libflite1 6631 B/12.8 MB 0%]"
     ]
    },
    {
     "name": "stdout",
     "output_type": "stream",
     "text": [
      "\r\n",
      "                                    \r\n",
      "68% [Waiting for headers]\r\n",
      "                         \r\n",
      "Get:28 http://us-central1.gce.archive.ubuntu.com/ubuntu focal/universe amd64 libserd-0-0 amd64 0.30.2-1 [46.6 kB]\r\n",
      "\r\n",
      "68% [28 libserd-0-0 46.6 kB/46.6 kB 100%]\r\n",
      "                                         \r\n",
      "68% [Working]\r\n",
      "             \r\n",
      "Get:29 http://us-central1.gce.archive.ubuntu.com/ubuntu focal/universe amd64 libsord-0-0 amd64 0.16.4-1 [19.5 kB]\r\n",
      "\r\n",
      "68% [29 libsord-0-0 0 B/19.5 kB 0%]\r\n",
      "                                   \r\n",
      "68% [Waiting for headers]\r\n",
      "                         \r\n",
      "Get:30 http://us-central1.gce.archive.ubuntu.com/ubuntu focal/universe amd64 libsratom-0-0 amd64 0.6.4-1 [16.9 kB]\r\n",
      "\r\n",
      "69% [30 libsratom-0-0 16.9 kB/16.9 kB 100%]\r\n",
      "                                           \r\n",
      "69% [Working]\r\n",
      "             \r\n",
      "Get:31 http://us-central1.gce.archive.ubuntu.com/ubuntu focal-updates/universe amd64 liblilv-0-0 amd64 0.24.6-1ubuntu0.1 [40.6 kB]\r\n",
      "\r\n",
      "69% [31 liblilv-0-0 16.4 kB/40.6 kB 40%]\r\n",
      "                                        \r\n",
      "69% [Waiting for headers]\r\n",
      "                         \r\n",
      "Get:32 http://us-central1.gce.archive.ubuntu.com/ubuntu focal/universe amd64 libmysofa1 amd64 1.0~dfsg0-1 [39.2 kB]\r\n",
      "\r\n",
      "69% [32 libmysofa1 6551 B/39.2 kB 17%]\r\n",
      "                                      \r\n",
      "70% [Working]\r\n",
      "             \r\n",
      "Get:33 http://us-central1.gce.archive.ubuntu.com/ubuntu focal-updates/universe amd64 libpostproc55 amd64 7:4.2.4-1ubuntu0.1 [55.3 kB]\r\n",
      "\r\n",
      "70% [33 libpostproc55 8192 B/55.3 kB 15%]\r\n",
      "                                         \r\n",
      "70% [Waiting for headers]\r\n",
      "                         \r\n",
      "Get:34 http://us-central1.gce.archive.ubuntu.com/ubuntu focal/main amd64 libfftw3-double3 amd64 3.3.8-2ubuntu1 [728 kB]\r\n",
      "\r\n",
      "70% [34 libfftw3-double3 42.3 kB/728 kB 6%]"
     ]
    },
    {
     "name": "stdout",
     "output_type": "stream",
     "text": [
      "\r\n",
      "                                           \r\n",
      "72% [Working]\r\n",
      "             \r\n",
      "Get:35 http://us-central1.gce.archive.ubuntu.com/ubuntu focal/universe amd64 librubberband2 amd64 1.8.2-1build1 [89.4 kB]\r\n",
      "\r\n",
      "72% [35 librubberband2 35.3 kB/89.4 kB 39%]\r\n",
      "                                           \r\n",
      "72% [Waiting for headers]\r\n",
      "                         \r\n",
      "Get:36 http://us-central1.gce.archive.ubuntu.com/ubuntu focal-updates/universe amd64 libswscale5 amd64 7:4.2.4-1ubuntu0.1 [156 kB]\r\n",
      "\r\n",
      "72% [36 libswscale5 11.0 kB/156 kB 7%]\r\n",
      "                                      \r\n",
      "73% [Waiting for headers]\r\n",
      "                         \r\n",
      "Get:37 http://us-central1.gce.archive.ubuntu.com/ubuntu focal/universe amd64 libvidstab1.1 amd64 1.1.0-2 [35.0 kB]\r\n",
      "\r\n",
      "73% [37 libvidstab1.1 35.0 kB/35.0 kB 100%]\r\n",
      "                                           \r\n",
      "73% [Working]\r\n",
      "             \r\n",
      "Get:38 http://us-central1.gce.archive.ubuntu.com/ubuntu focal-updates/universe amd64 libavfilter7 amd64 7:4.2.4-1ubuntu0.1 [1084 kB]\r\n",
      "\r\n",
      "73% [38 libavfilter7 8040 B/1084 kB 1%]\r\n",
      "                                       \r\n",
      "76% [Waiting for headers]\r\n",
      "                         \r\n",
      "Get:39 http://us-central1.gce.archive.ubuntu.com/ubuntu focal/main amd64 libcdio18 amd64 2.0.0-2 [58.6 kB]\r\n",
      "\r\n",
      "76% [39 libcdio18 12.3 kB/58.6 kB 21%]\r\n",
      "                                      \r\n",
      "76% [Waiting for headers]\r\n",
      "                         \r\n",
      "Get:40 http://us-central1.gce.archive.ubuntu.com/ubuntu focal/main amd64 libcdio-cdda2 amd64 10.2+2.0.0-1 [17.6 kB]\r\n",
      "\r\n",
      "76% [40 libcdio-cdda2 8047 B/17.6 kB 46%]\r\n",
      "                                         \r\n",
      "77% [Waiting for headers]\r\n",
      "                         \r\n",
      "Get:41 http://us-central1.gce.archive.ubuntu.com/ubuntu focal/main amd64 libcdio-paranoia2 amd64 10.2+2.0.0-1 [16.2 kB]\r\n",
      "\r\n",
      "77% [41 libcdio-paranoia2 12.3 kB/16.2 kB 76%]\r\n",
      "                                              \r\n",
      "77% [Waiting for headers]\r\n",
      "                         \r\n",
      "Get:42 http://us-central1.gce.archive.ubuntu.com/ubuntu focal/universe amd64 libdc1394-22 amd64 2.2.5-2.1 [79.6 kB]\r\n",
      "\r\n",
      "77% [42 libdc1394-22 8046 B/79.6 kB 10%]\r\n",
      "                                        \r\n",
      "78% [Waiting for headers]"
     ]
    },
    {
     "name": "stdout",
     "output_type": "stream",
     "text": [
      "\r\n",
      "                         \r\n",
      "Get:43 http://us-central1.gce.archive.ubuntu.com/ubuntu focal/universe amd64 libopenal-data all 1:1.19.1-1 [162 kB]\r\n",
      "\r\n",
      "78% [43 libopenal-data 12.3 kB/162 kB 8%]\r\n",
      "                                         \r\n",
      "78% [Waiting for headers]\r\n",
      "                         \r\n",
      "Get:44 http://us-central1.gce.archive.ubuntu.com/ubuntu focal/universe amd64 libsndio7.0 amd64 1.5.0-3 [24.5 kB]\r\n",
      "\r\n",
      "78% [44 libsndio7.0 12.3 kB/24.5 kB 50%]\r\n",
      "                                        \r\n",
      "79% [Waiting for headers]\r\n",
      "                         \r\n",
      "Get:45 http://us-central1.gce.archive.ubuntu.com/ubuntu focal/universe amd64 libopenal1 amd64 1:1.19.1-1 [492 kB]\r\n",
      "\r\n",
      "79% [45 libopenal1 12.3 kB/492 kB 2%]\r\n",
      "                                     \r\n",
      "80% [Waiting for headers]"
     ]
    },
    {
     "name": "stdout",
     "output_type": "stream",
     "text": [
      "\r\n",
      "                         \r\n",
      "Get:46 http://us-central1.gce.archive.ubuntu.com/ubuntu focal/universe amd64 libsdl2-2.0-0 amd64 2.0.10+dfsg1-3 [407 kB]\r\n",
      "\r\n",
      "80% [46 libsdl2-2.0-0 8049 B/407 kB 2%]\r\n",
      "                                       \r\n",
      "81% [Waiting for headers]\r\n",
      "                         \r\n",
      "Get:47 http://us-central1.gce.archive.ubuntu.com/ubuntu focal-updates/universe amd64 libavdevice58 amd64 7:4.2.4-1ubuntu0.1 [74.3 kB]\r\n",
      "\r\n",
      "81% [47 libavdevice58 8043 B/74.3 kB 11%]\r\n",
      "                                         \r\n",
      "81% [Waiting for headers]\r\n",
      "                         \r\n",
      "Get:48 http://us-central1.gce.archive.ubuntu.com/ubuntu focal-updates/universe amd64 libavresample4 amd64 7:4.2.4-1ubuntu0.1 [54.2 kB]\r\n",
      "\r\n",
      "81% [48 libavresample4 12.3 kB/54.2 kB 23%]\r\n",
      "                                           \r\n",
      "82% [Waiting for headers]\r\n",
      "                         \r\n",
      "Get:49 http://us-central1.gce.archive.ubuntu.com/ubuntu focal-updates/universe amd64 ffmpeg amd64 7:4.2.4-1ubuntu0.1 [1453 kB]\r\n",
      "\r\n",
      "82% [49 ffmpeg 2411 B/1453 kB 0%]\r\n",
      "                                 \r\n",
      "85% [Waiting for headers]"
     ]
    },
    {
     "name": "stdout",
     "output_type": "stream",
     "text": [
      "\r\n",
      "                         \r\n",
      "Get:50 http://us-central1.gce.archive.ubuntu.com/ubuntu focal/universe amd64 libigdgmm11 amd64 20.1.1+ds1-1 [111 kB]\r\n",
      "\r\n",
      "85% [50 libigdgmm11 12.3 kB/111 kB 11%]\r\n",
      "                                       \r\n",
      "85% [Waiting for headers]\r\n",
      "                         \r\n",
      "Get:51 http://us-central1.gce.archive.ubuntu.com/ubuntu focal/universe amd64 intel-media-va-driver amd64 20.1.1+dfsg1-1 [1764 kB]\r\n",
      "\r\n",
      "85% [51 intel-media-va-driver 12.3 kB/1764 kB 1%]\r\n",
      "                                                 \r\n",
      "89% [Waiting for headers]\r\n",
      "                         \r\n",
      "Get:52 http://us-central1.gce.archive.ubuntu.com/ubuntu focal/universe amd64 libaacs0 amd64 0.9.0-2 [50.1 kB]\r\n",
      "\r\n",
      "89% [52 libaacs0 44.6 kB/50.1 kB 89%]\r\n",
      "                                     \r\n",
      "90% [Waiting for headers]\r\n",
      "                         \r\n",
      "Get:53 http://us-central1.gce.archive.ubuntu.com/ubuntu focal/universe amd64 libbdplus0 amd64 0.1.2-3 [47.3 kB]\r\n",
      "\r\n",
      "90% [53 libbdplus0 12.3 kB/47.3 kB 26%]\r\n",
      "                                       \r\n",
      "90% [Waiting for headers]\r\n",
      "                         \r\n",
      "Get:54 http://us-central1.gce.archive.ubuntu.com/ubuntu focal-updates/universe amd64 mesa-va-drivers amd64 21.2.6-0ubuntu0.1~20.04.2 [2970 kB]\r\n",
      "\r\n",
      "90% [54 mesa-va-drivers 8192 B/2970 kB 0%]"
     ]
    },
    {
     "name": "stdout",
     "output_type": "stream",
     "text": [
      "\r\n",
      "                                          \r\n",
      "96% [Waiting for headers]\r\n",
      "                         \r\n",
      "Get:55 http://us-central1.gce.archive.ubuntu.com/ubuntu focal/universe amd64 i965-va-driver amd64 2.4.0-0ubuntu1 [924 kB]\r\n",
      "\r\n",
      "96% [55 i965-va-driver 56.6 kB/924 kB 6%]\r\n",
      "                                         \r\n",
      "98% [Waiting for headers]\r\n",
      "                         \r\n",
      "Get:56 http://us-central1.gce.archive.ubuntu.com/ubuntu focal/universe amd64 va-driver-all amd64 2.7.0-2 [4020 B]\r\n",
      "\r\n",
      "98% [56 va-driver-all 4020 B/4020 B 100%]\r\n",
      "                                         \r\n",
      "98% [Waiting for headers]\r\n",
      "                         \r\n",
      "Get:57 http://us-central1.gce.archive.ubuntu.com/ubuntu focal-updates/universe amd64 xvfb amd64 2:1.20.13-1ubuntu1~20.04.2 [779 kB]\r\n",
      "\r\n",
      "98% [57 xvfb 45.1 kB/779 kB 6%]\r\n",
      "                               \r\n",
      "100% [Working]\r\n",
      "              \r\n",
      "Fetched 43.2 MB in 1s (65.7 MB/s)\r\n"
     ]
    },
    {
     "name": "stdout",
     "output_type": "stream",
     "text": [
      "\r\n",
      "Extracting templates from packages: 52%"
     ]
    },
    {
     "name": "stdout",
     "output_type": "stream",
     "text": [
      "\r\n",
      "Extracting templates from packages: 100%\r\n"
     ]
    },
    {
     "name": "stdout",
     "output_type": "stream",
     "text": [
      "Selecting previously unselected package libaom0:amd64.\r\n",
      "(Reading database ... \r\n",
      "(Reading database ... 5%\r\n",
      "(Reading database ... 10%\r\n",
      "(Reading database ... 15%\r\n",
      "(Reading database ... 20%\r\n",
      "(Reading database ... 25%\r\n",
      "(Reading database ... 30%\r\n",
      "(Reading database ... 35%\r\n",
      "(Reading database ... 40%\r\n",
      "(Reading database ... 45%\r\n",
      "(Reading database ... 50%\r\n",
      "(Reading database ... 55%\r\n",
      "(Reading database ... 60%\r\n",
      "(Reading database ... 65%\r\n",
      "(Reading database ... 70%\r\n",
      "(Reading database ... 75%\r"
     ]
    },
    {
     "name": "stdout",
     "output_type": "stream",
     "text": [
      "(Reading database ... 80%\r\n",
      "(Reading database ... 85%\r\n",
      "(Reading database ... 90%\r\n",
      "(Reading database ... 95%\r\n",
      "(Reading database ... 100%\r\n",
      "(Reading database ... 142296 files and directories currently installed.)\r\n",
      "Preparing to unpack .../00-libaom0_1.0.0.errata1-3build1_amd64.deb ...\r\n",
      "Unpacking libaom0:amd64 (1.0.0.errata1-3build1) ...\r\n"
     ]
    },
    {
     "name": "stdout",
     "output_type": "stream",
     "text": [
      "Selecting previously unselected package libva2:amd64.\r\n",
      "Preparing to unpack .../01-libva2_2.7.0-2_amd64.deb ...\r\n",
      "Unpacking libva2:amd64 (2.7.0-2) ...\r\n"
     ]
    },
    {
     "name": "stdout",
     "output_type": "stream",
     "text": [
      "Selecting previously unselected package libva-drm2:amd64.\r\n",
      "Preparing to unpack .../02-libva-drm2_2.7.0-2_amd64.deb ...\r\n",
      "Unpacking libva-drm2:amd64 (2.7.0-2) ...\r\n"
     ]
    },
    {
     "name": "stdout",
     "output_type": "stream",
     "text": [
      "Selecting previously unselected package libva-x11-2:amd64.\r\n",
      "Preparing to unpack .../03-libva-x11-2_2.7.0-2_amd64.deb ...\r\n",
      "Unpacking libva-x11-2:amd64 (2.7.0-2) ...\r\n"
     ]
    },
    {
     "name": "stdout",
     "output_type": "stream",
     "text": [
      "Selecting previously unselected package ocl-icd-libopencl1:amd64.\r\n",
      "Preparing to unpack .../04-ocl-icd-libopencl1_2.2.11-1ubuntu1_amd64.deb ...\r\n",
      "Unpacking ocl-icd-libopencl1:amd64 (2.2.11-1ubuntu1) ...\r\n"
     ]
    },
    {
     "name": "stdout",
     "output_type": "stream",
     "text": [
      "Selecting previously unselected package libavutil56:amd64.\r\n",
      "Preparing to unpack .../05-libavutil56_7%3a4.2.4-1ubuntu0.1_amd64.deb ...\r\n",
      "Unpacking libavutil56:amd64 (7:4.2.4-1ubuntu0.1) ...\r\n"
     ]
    },
    {
     "name": "stdout",
     "output_type": "stream",
     "text": [
      "Selecting previously unselected package libcodec2-0.9:amd64.\r\n",
      "Preparing to unpack .../06-libcodec2-0.9_0.9.2-2_amd64.deb ...\r\n",
      "Unpacking libcodec2-0.9:amd64 (0.9.2-2) ...\r\n"
     ]
    },
    {
     "name": "stdout",
     "output_type": "stream",
     "text": [
      "Selecting previously unselected package libgsm1:amd64.\r\n",
      "Preparing to unpack .../07-libgsm1_1.0.18-2_amd64.deb ...\r\n",
      "Unpacking libgsm1:amd64 (1.0.18-2) ...\r\n"
     ]
    },
    {
     "name": "stdout",
     "output_type": "stream",
     "text": [
      "Selecting previously unselected package libshine3:amd64.\r\n",
      "Preparing to unpack .../08-libshine3_3.1.1-2_amd64.deb ...\r\n",
      "Unpacking libshine3:amd64 (3.1.1-2) ...\r\n"
     ]
    },
    {
     "name": "stdout",
     "output_type": "stream",
     "text": [
      "Selecting previously unselected package libsnappy1v5:amd64.\r\n",
      "Preparing to unpack .../09-libsnappy1v5_1.1.8-1build1_amd64.deb ...\r\n",
      "Unpacking libsnappy1v5:amd64 (1.1.8-1build1) ...\r\n"
     ]
    },
    {
     "name": "stdout",
     "output_type": "stream",
     "text": [
      "Selecting previously unselected package libswresample3:amd64.\r\n",
      "Preparing to unpack .../10-libswresample3_7%3a4.2.4-1ubuntu0.1_amd64.deb ...\r\n",
      "Unpacking libswresample3:amd64 (7:4.2.4-1ubuntu0.1) ...\r\n"
     ]
    },
    {
     "name": "stdout",
     "output_type": "stream",
     "text": [
      "Selecting previously unselected package libwebpmux3:amd64.\r\n",
      "Preparing to unpack .../11-libwebpmux3_0.6.1-2ubuntu0.20.04.1_amd64.deb ...\r\n",
      "Unpacking libwebpmux3:amd64 (0.6.1-2ubuntu0.20.04.1) ...\r\n",
      "Selecting previously unselected package libx264-155:amd64.\r\n"
     ]
    },
    {
     "name": "stdout",
     "output_type": "stream",
     "text": [
      "Preparing to unpack .../12-libx264-155_2%3a0.155.2917+git0a84d98-2_amd64.deb ...\r\n",
      "Unpacking libx264-155:amd64 (2:0.155.2917+git0a84d98-2) ...\r\n"
     ]
    },
    {
     "name": "stdout",
     "output_type": "stream",
     "text": [
      "Selecting previously unselected package libx265-179:amd64.\r\n"
     ]
    },
    {
     "name": "stdout",
     "output_type": "stream",
     "text": [
      "Preparing to unpack .../13-libx265-179_3.2.1-1build1_amd64.deb ...\r\n",
      "Unpacking libx265-179:amd64 (3.2.1-1build1) ...\r\n"
     ]
    },
    {
     "name": "stdout",
     "output_type": "stream",
     "text": [
      "Selecting previously unselected package libxvidcore4:amd64.\r\n",
      "Preparing to unpack .../14-libxvidcore4_2%3a1.3.7-1_amd64.deb ...\r\n",
      "Unpacking libxvidcore4:amd64 (2:1.3.7-1) ...\r\n"
     ]
    },
    {
     "name": "stdout",
     "output_type": "stream",
     "text": [
      "Selecting previously unselected package libzvbi-common.\r\n"
     ]
    },
    {
     "name": "stdout",
     "output_type": "stream",
     "text": [
      "Preparing to unpack .../15-libzvbi-common_0.2.35-17_all.deb ...\r\n",
      "Unpacking libzvbi-common (0.2.35-17) ...\r\n",
      "Selecting previously unselected package libzvbi0:amd64.\r\n"
     ]
    },
    {
     "name": "stdout",
     "output_type": "stream",
     "text": [
      "Preparing to unpack .../16-libzvbi0_0.2.35-17_amd64.deb ...\r\n",
      "Unpacking libzvbi0:amd64 (0.2.35-17) ...\r\n"
     ]
    },
    {
     "name": "stdout",
     "output_type": "stream",
     "text": [
      "Selecting previously unselected package libavcodec58:amd64.\r\n",
      "Preparing to unpack .../17-libavcodec58_7%3a4.2.4-1ubuntu0.1_amd64.deb ...\r\n",
      "Unpacking libavcodec58:amd64 (7:4.2.4-1ubuntu0.1) ...\r\n"
     ]
    },
    {
     "name": "stdout",
     "output_type": "stream",
     "text": [
      "Selecting previously unselected package libass9:amd64.\r\n",
      "Preparing to unpack .../18-libass9_1%3a0.14.0-2_amd64.deb ...\r\n",
      "Unpacking libass9:amd64 (1:0.14.0-2) ...\r\n"
     ]
    },
    {
     "name": "stdout",
     "output_type": "stream",
     "text": [
      "Selecting previously unselected package libbluray2:amd64.\r\n",
      "Preparing to unpack .../19-libbluray2_1%3a1.2.0-1_amd64.deb ...\r\n",
      "Unpacking libbluray2:amd64 (1:1.2.0-1) ...\r\n"
     ]
    },
    {
     "name": "stdout",
     "output_type": "stream",
     "text": [
      "Selecting previously unselected package libchromaprint1:amd64.\r\n",
      "Preparing to unpack .../20-libchromaprint1_1.4.3-3build1_amd64.deb ...\r\n",
      "Unpacking libchromaprint1:amd64 (1.4.3-3build1) ...\r\n"
     ]
    },
    {
     "name": "stdout",
     "output_type": "stream",
     "text": [
      "Selecting previously unselected package libgme0:amd64.\r\n",
      "Preparing to unpack .../21-libgme0_0.6.2-1build1_amd64.deb ...\r\n",
      "Unpacking libgme0:amd64 (0.6.2-1build1) ...\r\n"
     ]
    },
    {
     "name": "stdout",
     "output_type": "stream",
     "text": [
      "Selecting previously unselected package libopenmpt0:amd64.\r\n",
      "Preparing to unpack .../22-libopenmpt0_0.4.11-1build1_amd64.deb ...\r\n",
      "Unpacking libopenmpt0:amd64 (0.4.11-1build1) ...\r\n"
     ]
    },
    {
     "name": "stdout",
     "output_type": "stream",
     "text": [
      "Selecting previously unselected package libssh-gcrypt-4:amd64.\r\n",
      "Preparing to unpack .../23-libssh-gcrypt-4_0.9.3-2ubuntu2.2_amd64.deb ...\r\n",
      "Unpacking libssh-gcrypt-4:amd64 (0.9.3-2ubuntu2.2) ...\r\n"
     ]
    },
    {
     "name": "stdout",
     "output_type": "stream",
     "text": [
      "Selecting previously unselected package libavformat58:amd64.\r\n"
     ]
    },
    {
     "name": "stdout",
     "output_type": "stream",
     "text": [
      "Preparing to unpack .../24-libavformat58_7%3a4.2.4-1ubuntu0.1_amd64.deb ...\r\n",
      "Unpacking libavformat58:amd64 (7:4.2.4-1ubuntu0.1) ...\r\n"
     ]
    },
    {
     "name": "stdout",
     "output_type": "stream",
     "text": [
      "Selecting previously unselected package libbs2b0:amd64.\r\n",
      "Preparing to unpack .../25-libbs2b0_3.1.0+dfsg-2.2build1_amd64.deb ...\r\n",
      "Unpacking libbs2b0:amd64 (3.1.0+dfsg-2.2build1) ...\r\n"
     ]
    },
    {
     "name": "stdout",
     "output_type": "stream",
     "text": [
      "Selecting previously unselected package libflite1:amd64.\r\n",
      "Preparing to unpack .../26-libflite1_2.1-release-3_amd64.deb ...\r\n",
      "Unpacking libflite1:amd64 (2.1-release-3) ...\r\n"
     ]
    },
    {
     "name": "stdout",
     "output_type": "stream",
     "text": [
      "Selecting previously unselected package libserd-0-0:amd64.\r\n",
      "Preparing to unpack .../27-libserd-0-0_0.30.2-1_amd64.deb ...\r\n",
      "Unpacking libserd-0-0:amd64 (0.30.2-1) ...\r\n"
     ]
    },
    {
     "name": "stdout",
     "output_type": "stream",
     "text": [
      "Selecting previously unselected package libsord-0-0:amd64.\r\n",
      "Preparing to unpack .../28-libsord-0-0_0.16.4-1_amd64.deb ...\r\n",
      "Unpacking libsord-0-0:amd64 (0.16.4-1) ...\r\n"
     ]
    },
    {
     "name": "stdout",
     "output_type": "stream",
     "text": [
      "Selecting previously unselected package libsratom-0-0:amd64.\r\n",
      "Preparing to unpack .../29-libsratom-0-0_0.6.4-1_amd64.deb ...\r\n",
      "Unpacking libsratom-0-0:amd64 (0.6.4-1) ...\r\n"
     ]
    },
    {
     "name": "stdout",
     "output_type": "stream",
     "text": [
      "Selecting previously unselected package liblilv-0-0:amd64.\r\n",
      "Preparing to unpack .../30-liblilv-0-0_0.24.6-1ubuntu0.1_amd64.deb ...\r\n",
      "Unpacking liblilv-0-0:amd64 (0.24.6-1ubuntu0.1) ...\r\n"
     ]
    },
    {
     "name": "stdout",
     "output_type": "stream",
     "text": [
      "Selecting previously unselected package libmysofa1:amd64.\r\n",
      "Preparing to unpack .../31-libmysofa1_1.0~dfsg0-1_amd64.deb ...\r\n",
      "Unpacking libmysofa1:amd64 (1.0~dfsg0-1) ...\r\n"
     ]
    },
    {
     "name": "stdout",
     "output_type": "stream",
     "text": [
      "Selecting previously unselected package libpostproc55:amd64.\r\n",
      "Preparing to unpack .../32-libpostproc55_7%3a4.2.4-1ubuntu0.1_amd64.deb ...\r\n",
      "Unpacking libpostproc55:amd64 (7:4.2.4-1ubuntu0.1) ...\r\n"
     ]
    },
    {
     "name": "stdout",
     "output_type": "stream",
     "text": [
      "Selecting previously unselected package libfftw3-double3:amd64.\r\n",
      "Preparing to unpack .../33-libfftw3-double3_3.3.8-2ubuntu1_amd64.deb ...\r\n",
      "Unpacking libfftw3-double3:amd64 (3.3.8-2ubuntu1) ...\r\n"
     ]
    },
    {
     "name": "stdout",
     "output_type": "stream",
     "text": [
      "Selecting previously unselected package librubberband2:amd64.\r\n",
      "Preparing to unpack .../34-librubberband2_1.8.2-1build1_amd64.deb ...\r\n",
      "Unpacking librubberband2:amd64 (1.8.2-1build1) ...\r\n"
     ]
    },
    {
     "name": "stdout",
     "output_type": "stream",
     "text": [
      "Selecting previously unselected package libswscale5:amd64.\r\n",
      "Preparing to unpack .../35-libswscale5_7%3a4.2.4-1ubuntu0.1_amd64.deb ...\r\n",
      "Unpacking libswscale5:amd64 (7:4.2.4-1ubuntu0.1) ...\r\n"
     ]
    },
    {
     "name": "stdout",
     "output_type": "stream",
     "text": [
      "Selecting previously unselected package libvidstab1.1:amd64.\r\n",
      "Preparing to unpack .../36-libvidstab1.1_1.1.0-2_amd64.deb ...\r\n",
      "Unpacking libvidstab1.1:amd64 (1.1.0-2) ...\r\n"
     ]
    },
    {
     "name": "stdout",
     "output_type": "stream",
     "text": [
      "Selecting previously unselected package libavfilter7:amd64.\r\n",
      "Preparing to unpack .../37-libavfilter7_7%3a4.2.4-1ubuntu0.1_amd64.deb ...\r\n",
      "Unpacking libavfilter7:amd64 (7:4.2.4-1ubuntu0.1) ...\r\n"
     ]
    },
    {
     "name": "stdout",
     "output_type": "stream",
     "text": [
      "Selecting previously unselected package libcdio18:amd64.\r\n",
      "Preparing to unpack .../38-libcdio18_2.0.0-2_amd64.deb ...\r\n",
      "Unpacking libcdio18:amd64 (2.0.0-2) ...\r\n"
     ]
    },
    {
     "name": "stdout",
     "output_type": "stream",
     "text": [
      "Selecting previously unselected package libcdio-cdda2:amd64.\r\n",
      "Preparing to unpack .../39-libcdio-cdda2_10.2+2.0.0-1_amd64.deb ...\r\n",
      "Unpacking libcdio-cdda2:amd64 (10.2+2.0.0-1) ...\r\n"
     ]
    },
    {
     "name": "stdout",
     "output_type": "stream",
     "text": [
      "Selecting previously unselected package libcdio-paranoia2:amd64.\r\n",
      "Preparing to unpack .../40-libcdio-paranoia2_10.2+2.0.0-1_amd64.deb ...\r\n",
      "Unpacking libcdio-paranoia2:amd64 (10.2+2.0.0-1) ...\r\n"
     ]
    },
    {
     "name": "stdout",
     "output_type": "stream",
     "text": [
      "Selecting previously unselected package libdc1394-22:amd64.\r\n",
      "Preparing to unpack .../41-libdc1394-22_2.2.5-2.1_amd64.deb ...\r\n",
      "Unpacking libdc1394-22:amd64 (2.2.5-2.1) ...\r\n"
     ]
    },
    {
     "name": "stdout",
     "output_type": "stream",
     "text": [
      "Selecting previously unselected package libopenal-data.\r\n",
      "Preparing to unpack .../42-libopenal-data_1%3a1.19.1-1_all.deb ...\r\n",
      "Unpacking libopenal-data (1:1.19.1-1) ...\r\n"
     ]
    },
    {
     "name": "stdout",
     "output_type": "stream",
     "text": [
      "Selecting previously unselected package libsndio7.0:amd64.\r\n",
      "Preparing to unpack .../43-libsndio7.0_1.5.0-3_amd64.deb ...\r\n",
      "Unpacking libsndio7.0:amd64 (1.5.0-3) ...\r\n",
      "Selecting previously unselected package libopenal1:amd64.\r\n"
     ]
    },
    {
     "name": "stdout",
     "output_type": "stream",
     "text": [
      "Preparing to unpack .../44-libopenal1_1%3a1.19.1-1_amd64.deb ...\r\n",
      "Unpacking libopenal1:amd64 (1:1.19.1-1) ...\r\n"
     ]
    },
    {
     "name": "stdout",
     "output_type": "stream",
     "text": [
      "Selecting previously unselected package libsdl2-2.0-0:amd64.\r\n",
      "Preparing to unpack .../45-libsdl2-2.0-0_2.0.10+dfsg1-3_amd64.deb ...\r\n",
      "Unpacking libsdl2-2.0-0:amd64 (2.0.10+dfsg1-3) ...\r\n"
     ]
    },
    {
     "name": "stdout",
     "output_type": "stream",
     "text": [
      "Selecting previously unselected package libavdevice58:amd64.\r\n",
      "Preparing to unpack .../46-libavdevice58_7%3a4.2.4-1ubuntu0.1_amd64.deb ...\r\n",
      "Unpacking libavdevice58:amd64 (7:4.2.4-1ubuntu0.1) ...\r\n"
     ]
    },
    {
     "name": "stdout",
     "output_type": "stream",
     "text": [
      "Selecting previously unselected package libavresample4:amd64.\r\n",
      "Preparing to unpack .../47-libavresample4_7%3a4.2.4-1ubuntu0.1_amd64.deb ...\r\n",
      "Unpacking libavresample4:amd64 (7:4.2.4-1ubuntu0.1) ...\r\n"
     ]
    },
    {
     "name": "stdout",
     "output_type": "stream",
     "text": [
      "Selecting previously unselected package ffmpeg.\r\n",
      "Preparing to unpack .../48-ffmpeg_7%3a4.2.4-1ubuntu0.1_amd64.deb ...\r\n",
      "Unpacking ffmpeg (7:4.2.4-1ubuntu0.1) ...\r\n"
     ]
    },
    {
     "name": "stdout",
     "output_type": "stream",
     "text": [
      "Selecting previously unselected package libigdgmm11:amd64.\r\n",
      "Preparing to unpack .../49-libigdgmm11_20.1.1+ds1-1_amd64.deb ...\r\n",
      "Unpacking libigdgmm11:amd64 (20.1.1+ds1-1) ...\r\n"
     ]
    },
    {
     "name": "stdout",
     "output_type": "stream",
     "text": [
      "Selecting previously unselected package intel-media-va-driver:amd64.\r\n",
      "Preparing to unpack .../50-intel-media-va-driver_20.1.1+dfsg1-1_amd64.deb ...\r\n",
      "Unpacking intel-media-va-driver:amd64 (20.1.1+dfsg1-1) ...\r\n"
     ]
    },
    {
     "name": "stdout",
     "output_type": "stream",
     "text": [
      "Selecting previously unselected package libaacs0:amd64.\r\n",
      "Preparing to unpack .../51-libaacs0_0.9.0-2_amd64.deb ...\r\n",
      "Unpacking libaacs0:amd64 (0.9.0-2) ...\r\n"
     ]
    },
    {
     "name": "stdout",
     "output_type": "stream",
     "text": [
      "Selecting previously unselected package libbdplus0:amd64.\r\n",
      "Preparing to unpack .../52-libbdplus0_0.1.2-3_amd64.deb ...\r\n",
      "Unpacking libbdplus0:amd64 (0.1.2-3) ...\r\n"
     ]
    },
    {
     "name": "stdout",
     "output_type": "stream",
     "text": [
      "Selecting previously unselected package mesa-va-drivers:amd64.\r\n",
      "Preparing to unpack .../53-mesa-va-drivers_21.2.6-0ubuntu0.1~20.04.2_amd64.deb ...\r\n",
      "Unpacking mesa-va-drivers:amd64 (21.2.6-0ubuntu0.1~20.04.2) ...\r\n"
     ]
    },
    {
     "name": "stdout",
     "output_type": "stream",
     "text": [
      "Selecting previously unselected package i965-va-driver:amd64.\r\n",
      "Preparing to unpack .../54-i965-va-driver_2.4.0-0ubuntu1_amd64.deb ...\r\n",
      "Unpacking i965-va-driver:amd64 (2.4.0-0ubuntu1) ...\r\n"
     ]
    },
    {
     "name": "stdout",
     "output_type": "stream",
     "text": [
      "Selecting previously unselected package va-driver-all:amd64.\r\n",
      "Preparing to unpack .../55-va-driver-all_2.7.0-2_amd64.deb ...\r\n",
      "Unpacking va-driver-all:amd64 (2.7.0-2) ...\r\n",
      "Selecting previously unselected package xvfb.\r\n"
     ]
    },
    {
     "name": "stdout",
     "output_type": "stream",
     "text": [
      "Preparing to unpack .../56-xvfb_2%3a1.20.13-1ubuntu1~20.04.2_amd64.deb ...\r\n",
      "Unpacking xvfb (2:1.20.13-1ubuntu1~20.04.2) ...\r\n"
     ]
    },
    {
     "name": "stdout",
     "output_type": "stream",
     "text": [
      "Setting up libgme0:amd64 (0.6.2-1build1) ...\r\n",
      "Setting up libssh-gcrypt-4:amd64 (0.9.3-2ubuntu2.2) ...\r\n"
     ]
    },
    {
     "name": "stdout",
     "output_type": "stream",
     "text": [
      "Setting up libshine3:amd64 (3.1.1-2) ...\r\n",
      "Setting up libgsm1:amd64 (1.0.18-2) ...\r\n",
      "Setting up libx264-155:amd64 (2:0.155.2917+git0a84d98-2) ...\r\n",
      "Setting up libx265-179:amd64 (3.2.1-1build1) ...\r\n",
      "Setting up libaom0:amd64 (1.0.0.errata1-3build1) ...\r\n",
      "Setting up xvfb (2:1.20.13-1ubuntu1~20.04.2) ...\r\n",
      "Setting up libmysofa1:amd64 (1.0~dfsg0-1) ...\r\n",
      "Setting up libdc1394-22:amd64 (2.2.5-2.1) ...\r\n"
     ]
    },
    {
     "name": "stdout",
     "output_type": "stream",
     "text": [
      "Setting up libcdio18:amd64 (2.0.0-2) ...\r\n",
      "Setting up libxvidcore4:amd64 (2:1.3.7-1) ...\r\n",
      "Setting up libsnappy1v5:amd64 (1.1.8-1build1) ...\r\n",
      "Setting up libass9:amd64 (1:0.14.0-2) ...\r\n",
      "Setting up libva2:amd64 (2.7.0-2) ...\r\n",
      "Setting up libigdgmm11:amd64 (20.1.1+ds1-1) ...\r\n",
      "Setting up libcodec2-0.9:amd64 (0.9.2-2) ...\r\n"
     ]
    },
    {
     "name": "stdout",
     "output_type": "stream",
     "text": [
      "Setting up intel-media-va-driver:amd64 (20.1.1+dfsg1-1) ...\r\n",
      "Setting up libaacs0:amd64 (0.9.0-2) ...\r\n",
      "Setting up libfftw3-double3:amd64 (3.3.8-2ubuntu1) ...\r\n",
      "Setting up librubberband2:amd64 (1.8.2-1build1) ...\r\n",
      "Setting up libsndio7.0:amd64 (1.5.0-3) ...\r\n",
      "Setting up libbdplus0:amd64 (0.1.2-3) ...\r\n",
      "Setting up libvidstab1.1:amd64 (1.1.0-2) ...\r\n"
     ]
    },
    {
     "name": "stdout",
     "output_type": "stream",
     "text": [
      "Setting up libflite1:amd64 (2.1-release-3) ...\r\n",
      "Setting up libva-drm2:amd64 (2.7.0-2) ...\r\n",
      "Setting up ocl-icd-libopencl1:amd64 (2.2.11-1ubuntu1) ...\r\n",
      "Setting up libbs2b0:amd64 (3.1.0+dfsg-2.2build1) ...\r\n",
      "Setting up libopenal-data (1:1.19.1-1) ...\r\n",
      "Setting up mesa-va-drivers:amd64 (21.2.6-0ubuntu0.1~20.04.2) ...\r\n",
      "Setting up libbluray2:amd64 (1:1.2.0-1) ...\r\n"
     ]
    },
    {
     "name": "stdout",
     "output_type": "stream",
     "text": [
      "Setting up libsdl2-2.0-0:amd64 (2.0.10+dfsg1-3) ...\r\n",
      "Setting up libva-x11-2:amd64 (2.7.0-2) ...\r\n",
      "Setting up libwebpmux3:amd64 (0.6.1-2ubuntu0.20.04.1) ...\r\n",
      "Setting up libopenmpt0:amd64 (0.4.11-1build1) ...\r\n",
      "Setting up libzvbi-common (0.2.35-17) ...\r\n",
      "Setting up i965-va-driver:amd64 (2.4.0-0ubuntu1) ...\r\n",
      "Setting up libserd-0-0:amd64 (0.30.2-1) ...\r\n"
     ]
    },
    {
     "name": "stdout",
     "output_type": "stream",
     "text": [
      "Setting up libzvbi0:amd64 (0.2.35-17) ...\r\n",
      "Setting up libcdio-cdda2:amd64 (10.2+2.0.0-1) ...\r\n",
      "Setting up libcdio-paranoia2:amd64 (10.2+2.0.0-1) ...\r\n",
      "Setting up libopenal1:amd64 (1:1.19.1-1) ...\r\n",
      "Setting up libavutil56:amd64 (7:4.2.4-1ubuntu0.1) ...\r\n",
      "Setting up va-driver-all:amd64 (2.7.0-2) ...\r\n",
      "Setting up libpostproc55:amd64 (7:4.2.4-1ubuntu0.1) ...\r\n",
      "Setting up libsord-0-0:amd64 (0.16.4-1) ...\r\n"
     ]
    },
    {
     "name": "stdout",
     "output_type": "stream",
     "text": [
      "Setting up libsratom-0-0:amd64 (0.6.4-1) ...\r\n",
      "Setting up libswscale5:amd64 (7:4.2.4-1ubuntu0.1) ...\r\n",
      "Setting up liblilv-0-0:amd64 (0.24.6-1ubuntu0.1) ...\r\n",
      "Setting up libswresample3:amd64 (7:4.2.4-1ubuntu0.1) ...\r\n",
      "Setting up libavresample4:amd64 (7:4.2.4-1ubuntu0.1) ...\r\n",
      "Setting up libavcodec58:amd64 (7:4.2.4-1ubuntu0.1) ...\r\n",
      "Setting up libchromaprint1:amd64 (1.4.3-3build1) ...\r\n"
     ]
    },
    {
     "name": "stdout",
     "output_type": "stream",
     "text": [
      "Setting up libavformat58:amd64 (7:4.2.4-1ubuntu0.1) ...\r\n",
      "Setting up libavfilter7:amd64 (7:4.2.4-1ubuntu0.1) ...\r\n",
      "Setting up libavdevice58:amd64 (7:4.2.4-1ubuntu0.1) ...\r\n",
      "Setting up ffmpeg (7:4.2.4-1ubuntu0.1) ...\r\n",
      "Processing triggers for man-db (2.9.1-1) ...\r\n"
     ]
    },
    {
     "name": "stdout",
     "output_type": "stream",
     "text": [
      "Processing triggers for libc-bin (2.31-0ubuntu9.7) ...\r\n"
     ]
    },
    {
     "name": "stdout",
     "output_type": "stream",
     "text": [
      "Collecting imageio==2.4.0\r\n"
     ]
    },
    {
     "name": "stdout",
     "output_type": "stream",
     "text": [
      "  Downloading imageio-2.4.0.tar.gz (3.3 MB)\r\n"
     ]
    },
    {
     "name": "stdout",
     "output_type": "stream",
     "text": [
      "  Preparing metadata (setup.py) ... \u001b[?25l-"
     ]
    },
    {
     "name": "stdout",
     "output_type": "stream",
     "text": [
      "\b \b\\"
     ]
    },
    {
     "name": "stdout",
     "output_type": "stream",
     "text": [
      "\b \b|"
     ]
    },
    {
     "name": "stdout",
     "output_type": "stream",
     "text": [
      "\b \bdone\r\n",
      "\u001b[?25hRequirement already satisfied: numpy in /tmpfs/src/tf_docs_env/lib/python3.9/site-packages (from imageio==2.4.0) (1.23.0rc2)\r\n",
      "Requirement already satisfied: pillow in /tmpfs/src/tf_docs_env/lib/python3.9/site-packages (from imageio==2.4.0) (9.1.1)\r\n",
      "Building wheels for collected packages: imageio\r\n"
     ]
    },
    {
     "name": "stdout",
     "output_type": "stream",
     "text": [
      "  Building wheel for imageio (setup.py) ... \u001b[?25l-"
     ]
    },
    {
     "name": "stdout",
     "output_type": "stream",
     "text": [
      "\b \b\\"
     ]
    },
    {
     "name": "stdout",
     "output_type": "stream",
     "text": [
      "\b \b|"
     ]
    },
    {
     "name": "stdout",
     "output_type": "stream",
     "text": [
      "\b \b/"
     ]
    },
    {
     "name": "stdout",
     "output_type": "stream",
     "text": [
      "\b \b-"
     ]
    },
    {
     "name": "stdout",
     "output_type": "stream",
     "text": [
      "\b \b\\"
     ]
    },
    {
     "name": "stdout",
     "output_type": "stream",
     "text": [
      "\b \b|"
     ]
    },
    {
     "name": "stdout",
     "output_type": "stream",
     "text": [
      "\b \bdone\r\n",
      "\u001b[?25h  Created wheel for imageio: filename=imageio-2.4.0-py3-none-any.whl size=3303894 sha256=c8681f331c62f7192148c7f389b1298079976226bfd69e7d561a1f89eaef3eea\r\n",
      "  Stored in directory: /home/kbuilder/.cache/pip/wheels/dc/af/71/39ce4d8e0a145428f10df71d8e6bee4fe66ab7967496c0a46a\r\n",
      "Successfully built imageio\r\n"
     ]
    },
    {
     "name": "stdout",
     "output_type": "stream",
     "text": [
      "Installing collected packages: imageio\r\n",
      "  Attempting uninstall: imageio\r\n",
      "    Found existing installation: imageio 2.19.3\r\n",
      "    Uninstalling imageio-2.19.3:\r\n",
      "      Successfully uninstalled imageio-2.19.3\r\n"
     ]
    },
    {
     "name": "stdout",
     "output_type": "stream",
     "text": [
      "\u001b[31mERROR: pip's dependency resolver does not currently take into account all the packages that are installed. This behaviour is the source of the following dependency conflicts.\r\n",
      "scikit-image 0.19.2 requires imageio>=2.4.1, but you have imageio 2.4.0 which is incompatible.\u001b[0m\u001b[31m\r\n",
      "\u001b[0mSuccessfully installed imageio-2.4.0\r\n"
     ]
    },
    {
     "name": "stdout",
     "output_type": "stream",
     "text": [
      "Collecting pyvirtualdisplay\r\n"
     ]
    },
    {
     "name": "stdout",
     "output_type": "stream",
     "text": [
      "  Downloading PyVirtualDisplay-3.0-py3-none-any.whl (15 kB)\r\n"
     ]
    },
    {
     "name": "stdout",
     "output_type": "stream",
     "text": [
      "Installing collected packages: pyvirtualdisplay\r\n"
     ]
    },
    {
     "name": "stdout",
     "output_type": "stream",
     "text": [
      "Successfully installed pyvirtualdisplay-3.0\r\n"
     ]
    },
    {
     "name": "stdout",
     "output_type": "stream",
     "text": [
      "Collecting tf-agents\r\n",
      "  Using cached tf_agents-0.13.0-py3-none-any.whl (1.3 MB)\r\n",
      "Requirement already satisfied: numpy>=1.13.3 in /tmpfs/src/tf_docs_env/lib/python3.9/site-packages (from tf-agents) (1.23.0rc2)\r\n",
      "Requirement already satisfied: wrapt>=1.11.1 in /tmpfs/src/tf_docs_env/lib/python3.9/site-packages (from tf-agents) (1.14.1)\r\n",
      "Requirement already satisfied: pillow in /tmpfs/src/tf_docs_env/lib/python3.9/site-packages (from tf-agents) (9.1.1)\r\n"
     ]
    },
    {
     "name": "stdout",
     "output_type": "stream",
     "text": [
      "Collecting cloudpickle>=1.3\r\n",
      "  Using cached cloudpickle-2.1.0-py3-none-any.whl (25 kB)\r\n",
      "Requirement already satisfied: six>=1.10.0 in /tmpfs/src/tf_docs_env/lib/python3.9/site-packages (from tf-agents) (1.16.0)\r\n",
      "Requirement already satisfied: protobuf>=3.11.3 in /tmpfs/src/tf_docs_env/lib/python3.9/site-packages (from tf-agents) (3.19.4)\r\n",
      "Requirement already satisfied: absl-py>=0.6.1 in /tmpfs/src/tf_docs_env/lib/python3.9/site-packages (from tf-agents) (1.1.0)\r\n"
     ]
    },
    {
     "name": "stdout",
     "output_type": "stream",
     "text": [
      "Collecting gym<=0.23.0,>=0.17.0\r\n",
      "  Using cached gym-0.23.0-py3-none-any.whl\r\n",
      "Requirement already satisfied: typing-extensions>=3.7.4.3 in /tmpfs/src/tf_docs_env/lib/python3.9/site-packages (from tf-agents) (4.2.0)\r\n"
     ]
    },
    {
     "name": "stdout",
     "output_type": "stream",
     "text": [
      "Collecting pygame==2.1.0\r\n"
     ]
    },
    {
     "name": "stdout",
     "output_type": "stream",
     "text": [
      "  Using cached pygame-2.1.0-cp39-cp39-manylinux_2_17_x86_64.manylinux2014_x86_64.whl (18.3 MB)\r\n"
     ]
    },
    {
     "name": "stdout",
     "output_type": "stream",
     "text": [
      "Collecting tensorflow-probability>=0.16.0\r\n",
      "  Using cached tensorflow_probability-0.16.0-py2.py3-none-any.whl (6.3 MB)\r\n"
     ]
    },
    {
     "name": "stdout",
     "output_type": "stream",
     "text": [
      "Collecting gin-config>=0.4.0\r\n",
      "  Using cached gin_config-0.5.0-py3-none-any.whl (61 kB)\r\n"
     ]
    },
    {
     "name": "stdout",
     "output_type": "stream",
     "text": [
      "Collecting gym-notices>=0.0.4\r\n",
      "  Using cached gym_notices-0.0.7-py3-none-any.whl (2.7 kB)\r\n"
     ]
    },
    {
     "name": "stdout",
     "output_type": "stream",
     "text": [
      "Requirement already satisfied: importlib-metadata>=4.10.0 in /tmpfs/src/tf_docs_env/lib/python3.9/site-packages (from gym<=0.23.0,>=0.17.0->tf-agents) (4.11.4)\r\n",
      "Requirement already satisfied: gast>=0.3.2 in /tmpfs/src/tf_docs_env/lib/python3.9/site-packages (from tensorflow-probability>=0.16.0->tf-agents) (0.4.0)\r\n",
      "Collecting dm-tree\r\n",
      "  Using cached dm_tree-0.1.7-cp39-cp39-manylinux_2_12_x86_64.manylinux2010_x86_64.whl (142 kB)\r\n",
      "Requirement already satisfied: decorator in /tmpfs/src/tf_docs_env/lib/python3.9/site-packages (from tensorflow-probability>=0.16.0->tf-agents) (5.1.1)\r\n"
     ]
    },
    {
     "name": "stdout",
     "output_type": "stream",
     "text": [
      "Requirement already satisfied: zipp>=0.5 in /tmpfs/src/tf_docs_env/lib/python3.9/site-packages (from importlib-metadata>=4.10.0->gym<=0.23.0,>=0.17.0->tf-agents) (3.8.0)\r\n"
     ]
    },
    {
     "name": "stdout",
     "output_type": "stream",
     "text": [
      "Installing collected packages: gym-notices, gin-config, dm-tree, pygame, cloudpickle, tensorflow-probability, gym, tf-agents\r\n"
     ]
    },
    {
     "name": "stdout",
     "output_type": "stream",
     "text": [
      "Successfully installed cloudpickle-2.1.0 dm-tree-0.1.7 gin-config-0.5.0 gym-0.23.0 gym-notices-0.0.7 pygame-2.1.0 tensorflow-probability-0.16.0 tf-agents-0.13.0\r\n"
     ]
    },
    {
     "name": "stdout",
     "output_type": "stream",
     "text": [
      "Requirement already satisfied: pyglet in /tmpfs/src/tf_docs_env/lib/python3.9/site-packages (1.5.26)\r\n"
     ]
    }
   ],
   "source": [
    "!sudo apt-get update\n",
    "!sudo apt-get install -y xvfb ffmpeg freeglut3-dev\n",
    "!pip install 'imageio==2.4.0'\n",
    "!pip install pyvirtualdisplay\n",
    "!pip install tf-agents\n",
    "!pip install pyglet"
   ]
  },
  {
   "cell_type": "code",
   "execution_count": 1,
   "metadata": {
    "execution": {
     "iopub.execute_input": "2022-06-05T11:15:08.159768Z",
     "iopub.status.busy": "2022-06-05T11:15:08.159138Z",
     "iopub.status.idle": "2022-06-05T11:15:11.476185Z",
     "shell.execute_reply": "2022-06-05T11:15:11.474996Z"
    },
    "id": "sMitx5qSgJk1"
   },
   "outputs": [
    {
     "ename": "ImportError",
     "evalue": "cannot import name 'network' from 'tensorflow.python.keras.engine' (c:\\Users\\sheld\\anaconda3\\envs\\tf\\lib\\site-packages\\tensorflow\\python\\keras\\engine\\__init__.py)",
     "output_type": "error",
     "traceback": [
      "\u001b[1;31m---------------------------------------------------------------------------\u001b[0m",
      "\u001b[1;31mImportError\u001b[0m                               Traceback (most recent call last)",
      "\u001b[1;32mc:\\Users\\sheld\\Desktop\\Desktop\\Productive_stuff\\Notes\\Turtelz\\Code\\Aplications of Notes\\ML\\9_c51_tutorial.ipynb Cell 9\u001b[0m in \u001b[0;36m<cell line: 15>\u001b[1;34m()\u001b[0m\n\u001b[0;32m     <a href='vscode-notebook-cell:/c%3A/Users/sheld/Desktop/Desktop/Productive_stuff/Notes/Turtelz/Code/Aplications%20of%20Notes/ML/9_c51_tutorial.ipynb#X11sZmlsZQ%3D%3D?line=10'>11</a>\u001b[0m \u001b[39mimport\u001b[39;00m \u001b[39mpyvirtualdisplay\u001b[39;00m\n\u001b[0;32m     <a href='vscode-notebook-cell:/c%3A/Users/sheld/Desktop/Desktop/Productive_stuff/Notes/Turtelz/Code/Aplications%20of%20Notes/ML/9_c51_tutorial.ipynb#X11sZmlsZQ%3D%3D?line=12'>13</a>\u001b[0m \u001b[39mimport\u001b[39;00m \u001b[39mtensorflow\u001b[39;00m \u001b[39mas\u001b[39;00m \u001b[39mtf\u001b[39;00m\n\u001b[1;32m---> <a href='vscode-notebook-cell:/c%3A/Users/sheld/Desktop/Desktop/Productive_stuff/Notes/Turtelz/Code/Aplications%20of%20Notes/ML/9_c51_tutorial.ipynb#X11sZmlsZQ%3D%3D?line=14'>15</a>\u001b[0m \u001b[39mfrom\u001b[39;00m \u001b[39mtf_agents\u001b[39;00m\u001b[39m.\u001b[39;00m\u001b[39magents\u001b[39;00m\u001b[39m.\u001b[39;00m\u001b[39mcategorical_dqn\u001b[39;00m \u001b[39mimport\u001b[39;00m categorical_dqn_agent\n\u001b[0;32m     <a href='vscode-notebook-cell:/c%3A/Users/sheld/Desktop/Desktop/Productive_stuff/Notes/Turtelz/Code/Aplications%20of%20Notes/ML/9_c51_tutorial.ipynb#X11sZmlsZQ%3D%3D?line=15'>16</a>\u001b[0m \u001b[39mfrom\u001b[39;00m \u001b[39mtf_agents\u001b[39;00m\u001b[39m.\u001b[39;00m\u001b[39mdrivers\u001b[39;00m \u001b[39mimport\u001b[39;00m dynamic_step_driver\n\u001b[0;32m     <a href='vscode-notebook-cell:/c%3A/Users/sheld/Desktop/Desktop/Productive_stuff/Notes/Turtelz/Code/Aplications%20of%20Notes/ML/9_c51_tutorial.ipynb#X11sZmlsZQ%3D%3D?line=16'>17</a>\u001b[0m \u001b[39mfrom\u001b[39;00m \u001b[39mtf_agents\u001b[39;00m\u001b[39m.\u001b[39;00m\u001b[39menvironments\u001b[39;00m \u001b[39mimport\u001b[39;00m suite_gym\n",
      "File \u001b[1;32mc:\\Users\\sheld\\anaconda3\\envs\\tf\\lib\\site-packages\\tf_agents\\agents\\__init__.py:19\u001b[0m, in \u001b[0;36m<module>\u001b[1;34m\u001b[0m\n\u001b[0;32m     17\u001b[0m \u001b[39mfrom\u001b[39;00m \u001b[39mtf_agents\u001b[39;00m\u001b[39m.\u001b[39;00m\u001b[39magents\u001b[39;00m \u001b[39mimport\u001b[39;00m tf_agent\n\u001b[0;32m     18\u001b[0m \u001b[39m# TODO(b/130564501): Do not import classes directly, only expose modules.\u001b[39;00m\n\u001b[1;32m---> 19\u001b[0m \u001b[39mfrom\u001b[39;00m \u001b[39mtf_agents\u001b[39;00m\u001b[39m.\u001b[39;00m\u001b[39magents\u001b[39;00m\u001b[39m.\u001b[39;00m\u001b[39mbehavioral_cloning\u001b[39;00m\u001b[39m.\u001b[39;00m\u001b[39mbehavioral_cloning_agent\u001b[39;00m \u001b[39mimport\u001b[39;00m BehavioralCloningAgent\n\u001b[0;32m     20\u001b[0m \u001b[39mfrom\u001b[39;00m \u001b[39mtf_agents\u001b[39;00m\u001b[39m.\u001b[39;00m\u001b[39magents\u001b[39;00m\u001b[39m.\u001b[39;00m\u001b[39mcategorical_dqn\u001b[39;00m\u001b[39m.\u001b[39;00m\u001b[39mcategorical_dqn_agent\u001b[39;00m \u001b[39mimport\u001b[39;00m CategoricalDqnAgent\n\u001b[0;32m     21\u001b[0m \u001b[39mfrom\u001b[39;00m \u001b[39mtf_agents\u001b[39;00m\u001b[39m.\u001b[39;00m\u001b[39magents\u001b[39;00m\u001b[39m.\u001b[39;00m\u001b[39mddpg\u001b[39;00m\u001b[39m.\u001b[39;00m\u001b[39mddpg_agent\u001b[39;00m \u001b[39mimport\u001b[39;00m DdpgAgent\n",
      "File \u001b[1;32mc:\\Users\\sheld\\anaconda3\\envs\\tf\\lib\\site-packages\\tf_agents\\agents\\behavioral_cloning\\__init__.py:17\u001b[0m, in \u001b[0;36m<module>\u001b[1;34m\u001b[0m\n\u001b[0;32m      1\u001b[0m \u001b[39m# coding=utf-8\u001b[39;00m\n\u001b[0;32m      2\u001b[0m \u001b[39m# Copyright 2018 The TF-Agents Authors.\u001b[39;00m\n\u001b[0;32m      3\u001b[0m \u001b[39m#\u001b[39;00m\n\u001b[1;32m   (...)\u001b[0m\n\u001b[0;32m     13\u001b[0m \u001b[39m# See the License for the specific language governing permissions and\u001b[39;00m\n\u001b[0;32m     14\u001b[0m \u001b[39m# limitations under the License.\u001b[39;00m\n\u001b[0;32m     16\u001b[0m \u001b[39m\"\"\"A Behavioral Cloning agent.\"\"\"\u001b[39;00m\n\u001b[1;32m---> 17\u001b[0m \u001b[39mfrom\u001b[39;00m \u001b[39mtf_agents\u001b[39;00m\u001b[39m.\u001b[39;00m\u001b[39magents\u001b[39;00m\u001b[39m.\u001b[39;00m\u001b[39mbehavioral_cloning\u001b[39;00m \u001b[39mimport\u001b[39;00m behavioral_cloning_agent\n",
      "File \u001b[1;32mc:\\Users\\sheld\\anaconda3\\envs\\tf\\lib\\site-packages\\tf_agents\\agents\\behavioral_cloning\\behavioral_cloning_agent.py:32\u001b[0m, in \u001b[0;36m<module>\u001b[1;34m\u001b[0m\n\u001b[0;32m     29\u001b[0m \u001b[39mimport\u001b[39;00m \u001b[39mtensorflow\u001b[39;00m \u001b[39mas\u001b[39;00m \u001b[39mtf\u001b[39;00m  \u001b[39m# pylint: disable=g-explicit-tensorflow-version-import\u001b[39;00m\n\u001b[0;32m     31\u001b[0m \u001b[39mfrom\u001b[39;00m \u001b[39mtf_agents\u001b[39;00m\u001b[39m.\u001b[39;00m\u001b[39magents\u001b[39;00m \u001b[39mimport\u001b[39;00m tf_agent\n\u001b[1;32m---> 32\u001b[0m \u001b[39mfrom\u001b[39;00m \u001b[39mtf_agents\u001b[39;00m\u001b[39m.\u001b[39;00m\u001b[39mpolicies\u001b[39;00m \u001b[39mimport\u001b[39;00m epsilon_greedy_policy\n\u001b[0;32m     33\u001b[0m \u001b[39mfrom\u001b[39;00m \u001b[39mtf_agents\u001b[39;00m\u001b[39m.\u001b[39;00m\u001b[39mpolicies\u001b[39;00m \u001b[39mimport\u001b[39;00m greedy_policy\n\u001b[0;32m     34\u001b[0m \u001b[39mfrom\u001b[39;00m \u001b[39mtf_agents\u001b[39;00m\u001b[39m.\u001b[39;00m\u001b[39mpolicies\u001b[39;00m \u001b[39mimport\u001b[39;00m q_policy\n",
      "File \u001b[1;32mc:\\Users\\sheld\\anaconda3\\envs\\tf\\lib\\site-packages\\tf_agents\\policies\\__init__.py:18\u001b[0m, in \u001b[0;36m<module>\u001b[1;34m\u001b[0m\n\u001b[0;32m      1\u001b[0m \u001b[39m# coding=utf-8\u001b[39;00m\n\u001b[0;32m      2\u001b[0m \u001b[39m# Copyright 2018 The TF-Agents Authors.\u001b[39;00m\n\u001b[0;32m      3\u001b[0m \u001b[39m#\u001b[39;00m\n\u001b[1;32m   (...)\u001b[0m\n\u001b[0;32m     13\u001b[0m \u001b[39m# See the License for the specific language governing permissions and\u001b[39;00m\n\u001b[0;32m     14\u001b[0m \u001b[39m# limitations under the License.\u001b[39;00m\n\u001b[0;32m     16\u001b[0m \u001b[39m\"\"\"Policies Module.\"\"\"\u001b[39;00m\n\u001b[1;32m---> 18\u001b[0m \u001b[39mfrom\u001b[39;00m \u001b[39mtf_agents\u001b[39;00m\u001b[39m.\u001b[39;00m\u001b[39mpolicies\u001b[39;00m \u001b[39mimport\u001b[39;00m actor_policy\n\u001b[0;32m     19\u001b[0m \u001b[39mfrom\u001b[39;00m \u001b[39mtf_agents\u001b[39;00m\u001b[39m.\u001b[39;00m\u001b[39mpolicies\u001b[39;00m \u001b[39mimport\u001b[39;00m boltzmann_policy\n\u001b[0;32m     20\u001b[0m \u001b[39mfrom\u001b[39;00m \u001b[39mtf_agents\u001b[39;00m\u001b[39m.\u001b[39;00m\u001b[39mpolicies\u001b[39;00m \u001b[39mimport\u001b[39;00m epsilon_greedy_policy\n",
      "File \u001b[1;32mc:\\Users\\sheld\\anaconda3\\envs\\tf\\lib\\site-packages\\tf_agents\\policies\\actor_policy.py:29\u001b[0m, in \u001b[0;36m<module>\u001b[1;34m\u001b[0m\n\u001b[0;32m     26\u001b[0m \u001b[39mimport\u001b[39;00m \u001b[39mtensorflow\u001b[39;00m \u001b[39mas\u001b[39;00m \u001b[39mtf\u001b[39;00m  \u001b[39m# pylint: disable=g-explicit-tensorflow-version-import\u001b[39;00m\n\u001b[0;32m     27\u001b[0m \u001b[39mimport\u001b[39;00m \u001b[39mtensorflow_probability\u001b[39;00m \u001b[39mas\u001b[39;00m \u001b[39mtfp\u001b[39;00m\n\u001b[1;32m---> 29\u001b[0m \u001b[39mfrom\u001b[39;00m \u001b[39mtf_agents\u001b[39;00m\u001b[39m.\u001b[39;00m\u001b[39mnetworks\u001b[39;00m \u001b[39mimport\u001b[39;00m network\n\u001b[0;32m     30\u001b[0m \u001b[39mfrom\u001b[39;00m \u001b[39mtf_agents\u001b[39;00m\u001b[39m.\u001b[39;00m\u001b[39mpolicies\u001b[39;00m \u001b[39mimport\u001b[39;00m tf_policy\n\u001b[0;32m     31\u001b[0m \u001b[39mfrom\u001b[39;00m \u001b[39mtf_agents\u001b[39;00m\u001b[39m.\u001b[39;00m\u001b[39mspecs\u001b[39;00m \u001b[39mimport\u001b[39;00m tensor_spec\n",
      "File \u001b[1;32mc:\\Users\\sheld\\anaconda3\\envs\\tf\\lib\\site-packages\\tf_agents\\networks\\__init__.py:18\u001b[0m, in \u001b[0;36m<module>\u001b[1;34m\u001b[0m\n\u001b[0;32m      1\u001b[0m \u001b[39m# coding=utf-8\u001b[39;00m\n\u001b[0;32m      2\u001b[0m \u001b[39m# Copyright 2018 The TF-Agents Authors.\u001b[39;00m\n\u001b[0;32m      3\u001b[0m \u001b[39m#\u001b[39;00m\n\u001b[1;32m   (...)\u001b[0m\n\u001b[0;32m     13\u001b[0m \u001b[39m# See the License for the specific language governing permissions and\u001b[39;00m\n\u001b[0;32m     14\u001b[0m \u001b[39m# limitations under the License.\u001b[39;00m\n\u001b[0;32m     16\u001b[0m \u001b[39m\"\"\"Networks Module.\"\"\"\u001b[39;00m\n\u001b[1;32m---> 18\u001b[0m \u001b[39mfrom\u001b[39;00m \u001b[39mtf_agents\u001b[39;00m\u001b[39m.\u001b[39;00m\u001b[39mnetworks\u001b[39;00m \u001b[39mimport\u001b[39;00m actor_distribution_network\n\u001b[0;32m     19\u001b[0m \u001b[39mfrom\u001b[39;00m \u001b[39mtf_agents\u001b[39;00m\u001b[39m.\u001b[39;00m\u001b[39mnetworks\u001b[39;00m \u001b[39mimport\u001b[39;00m actor_distribution_rnn_network\n\u001b[0;32m     20\u001b[0m \u001b[39mfrom\u001b[39;00m \u001b[39mtf_agents\u001b[39;00m\u001b[39m.\u001b[39;00m\u001b[39mnetworks\u001b[39;00m \u001b[39mimport\u001b[39;00m bias_layer\n",
      "File \u001b[1;32mc:\\Users\\sheld\\anaconda3\\envs\\tf\\lib\\site-packages\\tf_agents\\networks\\actor_distribution_network.py:26\u001b[0m, in \u001b[0;36m<module>\u001b[1;34m\u001b[0m\n\u001b[0;32m     23\u001b[0m \u001b[39mimport\u001b[39;00m \u001b[39mnumpy\u001b[39;00m \u001b[39mas\u001b[39;00m \u001b[39mnp\u001b[39;00m\n\u001b[0;32m     24\u001b[0m \u001b[39mimport\u001b[39;00m \u001b[39mtensorflow\u001b[39;00m \u001b[39mas\u001b[39;00m \u001b[39mtf\u001b[39;00m  \u001b[39m# pylint: disable=g-explicit-tensorflow-version-import\u001b[39;00m\n\u001b[1;32m---> 26\u001b[0m \u001b[39mfrom\u001b[39;00m \u001b[39mtf_agents\u001b[39;00m\u001b[39m.\u001b[39;00m\u001b[39mnetworks\u001b[39;00m \u001b[39mimport\u001b[39;00m categorical_projection_network\n\u001b[0;32m     27\u001b[0m \u001b[39mfrom\u001b[39;00m \u001b[39mtf_agents\u001b[39;00m\u001b[39m.\u001b[39;00m\u001b[39mnetworks\u001b[39;00m \u001b[39mimport\u001b[39;00m encoding_network\n\u001b[0;32m     28\u001b[0m \u001b[39mfrom\u001b[39;00m \u001b[39mtf_agents\u001b[39;00m\u001b[39m.\u001b[39;00m\u001b[39mnetworks\u001b[39;00m \u001b[39mimport\u001b[39;00m network\n",
      "File \u001b[1;32mc:\\Users\\sheld\\anaconda3\\envs\\tf\\lib\\site-packages\\tf_agents\\networks\\categorical_projection_network.py:26\u001b[0m, in \u001b[0;36m<module>\u001b[1;34m\u001b[0m\n\u001b[0;32m     23\u001b[0m \u001b[39mimport\u001b[39;00m \u001b[39mtensorflow\u001b[39;00m \u001b[39mas\u001b[39;00m \u001b[39mtf\u001b[39;00m  \u001b[39m# pylint: disable=g-explicit-tensorflow-version-import\u001b[39;00m\n\u001b[0;32m     24\u001b[0m \u001b[39mimport\u001b[39;00m \u001b[39mtensorflow_probability\u001b[39;00m \u001b[39mas\u001b[39;00m \u001b[39mtfp\u001b[39;00m\n\u001b[1;32m---> 26\u001b[0m \u001b[39mfrom\u001b[39;00m \u001b[39mtf_agents\u001b[39;00m\u001b[39m.\u001b[39;00m\u001b[39mnetworks\u001b[39;00m \u001b[39mimport\u001b[39;00m network\n\u001b[0;32m     27\u001b[0m \u001b[39mfrom\u001b[39;00m \u001b[39mtf_agents\u001b[39;00m\u001b[39m.\u001b[39;00m\u001b[39mnetworks\u001b[39;00m \u001b[39mimport\u001b[39;00m utils\n\u001b[0;32m     28\u001b[0m \u001b[39mfrom\u001b[39;00m \u001b[39mtf_agents\u001b[39;00m\u001b[39m.\u001b[39;00m\u001b[39mspecs\u001b[39;00m \u001b[39mimport\u001b[39;00m distribution_spec\n",
      "File \u001b[1;32mc:\\Users\\sheld\\anaconda3\\envs\\tf\\lib\\site-packages\\tf_agents\\networks\\network.py:33\u001b[0m, in \u001b[0;36m<module>\u001b[1;34m\u001b[0m\n\u001b[0;32m     30\u001b[0m \u001b[39mfrom\u001b[39;00m \u001b[39mtf_agents\u001b[39;00m\u001b[39m.\u001b[39;00m\u001b[39mutils\u001b[39;00m \u001b[39mimport\u001b[39;00m common\n\u001b[0;32m     32\u001b[0m \u001b[39m# pylint:disable=g-direct-tensorflow-import\u001b[39;00m\n\u001b[1;32m---> 33\u001b[0m \u001b[39mfrom\u001b[39;00m \u001b[39mtensorflow\u001b[39;00m\u001b[39m.\u001b[39;00m\u001b[39mpython\u001b[39;00m\u001b[39m.\u001b[39;00m\u001b[39mkeras\u001b[39;00m\u001b[39m.\u001b[39;00m\u001b[39mengine\u001b[39;00m \u001b[39mimport\u001b[39;00m network \u001b[39mas\u001b[39;00m keras_network  \u001b[39m# TF internal\u001b[39;00m\n\u001b[0;32m     34\u001b[0m \u001b[39mfrom\u001b[39;00m \u001b[39mtensorflow\u001b[39;00m\u001b[39m.\u001b[39;00m\u001b[39mpython\u001b[39;00m\u001b[39m.\u001b[39;00m\u001b[39mtraining\u001b[39;00m\u001b[39m.\u001b[39;00m\u001b[39mtracking\u001b[39;00m \u001b[39mimport\u001b[39;00m base  \u001b[39m# TF internal\u001b[39;00m\n\u001b[0;32m     35\u001b[0m \u001b[39mfrom\u001b[39;00m \u001b[39mtensorflow\u001b[39;00m\u001b[39m.\u001b[39;00m\u001b[39mpython\u001b[39;00m\u001b[39m.\u001b[39;00m\u001b[39mutil\u001b[39;00m \u001b[39mimport\u001b[39;00m tf_decorator  \u001b[39m# TF internal\u001b[39;00m\n",
      "\u001b[1;31mImportError\u001b[0m: cannot import name 'network' from 'tensorflow.python.keras.engine' (c:\\Users\\sheld\\anaconda3\\envs\\tf\\lib\\site-packages\\tensorflow\\python\\keras\\engine\\__init__.py)"
     ]
    }
   ],
   "source": [
    "from __future__ import absolute_import\n",
    "from __future__ import division\n",
    "from __future__ import print_function\n",
    "\n",
    "import base64\n",
    "import imageio\n",
    "import IPython\n",
    "import matplotlib\n",
    "import matplotlib.pyplot as plt\n",
    "import PIL.Image\n",
    "import pyvirtualdisplay\n",
    "\n",
    "import tensorflow as tf\n",
    "\n",
    "from tf_agents.agents.categorical_dqn import categorical_dqn_agent\n",
    "from tf_agents.drivers import dynamic_step_driver\n",
    "from tf_agents.environments import suite_gym\n",
    "from tf_agents.environments import tf_py_environment\n",
    "from tf_agents.eval import metric_utils\n",
    "from tf_agents.metrics import tf_metrics\n",
    "from tf_agents.networks import categorical_q_network\n",
    "from tf_agents.policies import random_tf_policy\n",
    "from tf_agents.replay_buffers import tf_uniform_replay_buffer\n",
    "from tf_agents.trajectories import trajectory\n",
    "from tf_agents.utils import common\n",
    "\n",
    "# Set up a virtual display for rendering OpenAI gym environments.\n",
    "display = pyvirtualdisplay.Display(visible=0, size=(1400, 900)).start()"
   ]
  },
  {
   "cell_type": "markdown",
   "metadata": {
    "id": "LmC0NDhdLIKY"
   },
   "source": [
    "## Hyperparameters"
   ]
  },
  {
   "cell_type": "code",
   "execution_count": 4,
   "metadata": {
    "execution": {
     "iopub.execute_input": "2022-06-05T11:15:11.481293Z",
     "iopub.status.busy": "2022-06-05T11:15:11.480410Z",
     "iopub.status.idle": "2022-06-05T11:15:11.486533Z",
     "shell.execute_reply": "2022-06-05T11:15:11.485840Z"
    },
    "id": "HC1kNrOsLSIZ"
   },
   "outputs": [],
   "source": [
    "env_name = \"CartPole-v1\" # @param {type:\"string\"}\n",
    "num_iterations = 15000 # @param {type:\"integer\"}\n",
    "\n",
    "initial_collect_steps = 1000  # @param {type:\"integer\"} \n",
    "collect_steps_per_iteration = 1  # @param {type:\"integer\"}\n",
    "replay_buffer_capacity = 100000  # @param {type:\"integer\"}\n",
    "\n",
    "fc_layer_params = (100,)\n",
    "\n",
    "batch_size = 64  # @param {type:\"integer\"}\n",
    "learning_rate = 1e-3  # @param {type:\"number\"}\n",
    "gamma = 0.99\n",
    "log_interval = 200  # @param {type:\"integer\"}\n",
    "\n",
    "num_atoms = 51  # @param {type:\"integer\"}\n",
    "min_q_value = -20  # @param {type:\"integer\"}\n",
    "max_q_value = 20  # @param {type:\"integer\"}\n",
    "n_step_update = 2  # @param {type:\"integer\"}\n",
    "\n",
    "num_eval_episodes = 10  # @param {type:\"integer\"}\n",
    "eval_interval = 1000  # @param {type:\"integer\"}"
   ]
  },
  {
   "cell_type": "markdown",
   "metadata": {
    "id": "VMsJC3DEgI0x"
   },
   "source": [
    "## Environment\n",
    "\n",
    "Load the environment as before, with one for training and one for evaluation. Here we use CartPole-v1 (vs. CartPole-v0 in the DQN tutorial), which has a larger max reward of 500 rather than 200."
   ]
  },
  {
   "cell_type": "code",
   "execution_count": 5,
   "metadata": {
    "execution": {
     "iopub.execute_input": "2022-06-05T11:15:11.489754Z",
     "iopub.status.busy": "2022-06-05T11:15:11.489137Z",
     "iopub.status.idle": "2022-06-05T11:15:11.529034Z",
     "shell.execute_reply": "2022-06-05T11:15:11.528194Z"
    },
    "id": "Xp-Y4mD6eDhF"
   },
   "outputs": [],
   "source": [
    "train_py_env = suite_gym.load(env_name)\n",
    "eval_py_env = suite_gym.load(env_name)\n",
    "\n",
    "train_env = tf_py_environment.TFPyEnvironment(train_py_env)\n",
    "eval_env = tf_py_environment.TFPyEnvironment(eval_py_env)"
   ]
  },
  {
   "cell_type": "markdown",
   "metadata": {
    "id": "E9lW_OZYFR8A"
   },
   "source": [
    "## Agent\n",
    "\n",
    "C51 is a Q-learning algorithm based on DQN. Like DQN, it can be used on any environment with a discrete action space.\n",
    "\n",
    "The main difference between C51 and DQN is that rather than simply predicting the Q-value for each state-action pair, C51 predicts a histogram model for the probability distribution of the Q-value:\n",
    "\n",
    "![Example C51 Distribution](images/c51_distribution.png)\n",
    "\n",
    "By learning the distribution rather than simply the expected value, the algorithm is able to stay more stable during training, leading to improved final performance. This is particularly true in situations with bimodal or even multimodal value distributions, where a single average does not provide an accurate picture.\n",
    "\n",
    "In order to train on probability distributions rather than on values, C51 must perform some complex distributional computations in order to calculate its loss function. But don't worry, all of this is taken care of for you in TF-Agents!\n",
    "\n",
    "To create a C51 Agent, we first need to create a `CategoricalQNetwork`. The API of the `CategoricalQNetwork` is the same as that of the `QNetwork`, except that there is an additional argument `num_atoms`. This represents the number of support points in our probability distribution estimates. (The above image includes 10 support points, each represented by a vertical blue bar.) As you can tell from the name, the default number of atoms is 51.\n"
   ]
  },
  {
   "cell_type": "code",
   "execution_count": 6,
   "metadata": {
    "execution": {
     "iopub.execute_input": "2022-06-05T11:15:11.532851Z",
     "iopub.status.busy": "2022-06-05T11:15:11.532154Z",
     "iopub.status.idle": "2022-06-05T11:15:11.706796Z",
     "shell.execute_reply": "2022-06-05T11:15:11.706035Z"
    },
    "id": "TgkdEPg_muzV"
   },
   "outputs": [],
   "source": [
    "categorical_q_net = categorical_q_network.CategoricalQNetwork(\n",
    "    train_env.observation_spec(),\n",
    "    train_env.action_spec(),\n",
    "    num_atoms=num_atoms,\n",
    "    fc_layer_params=fc_layer_params)"
   ]
  },
  {
   "cell_type": "markdown",
   "metadata": {
    "id": "z62u55hSmviJ"
   },
   "source": [
    "We also need an `optimizer` to train the network we just created, and a `train_step_counter` variable to keep track of how many times the network was updated.\n",
    "\n",
    "Note that one other significant difference from vanilla `DqnAgent` is that we now need to specify `min_q_value` and `max_q_value` as arguments. These specify the most extreme values of the support (in other words, the most extreme of the 51 atoms on either side). Make sure to choose these appropriately for your particular environment. Here we use -20 and 20."
   ]
  },
  {
   "cell_type": "code",
   "execution_count": 7,
   "metadata": {
    "execution": {
     "iopub.execute_input": "2022-06-05T11:15:11.710589Z",
     "iopub.status.busy": "2022-06-05T11:15:11.709963Z",
     "iopub.status.idle": "2022-06-05T11:15:14.949155Z",
     "shell.execute_reply": "2022-06-05T11:15:14.948100Z"
    },
    "id": "jbY4yrjTEyc9"
   },
   "outputs": [],
   "source": [
    "optimizer = tf.compat.v1.train.AdamOptimizer(learning_rate=learning_rate)\n",
    "\n",
    "train_step_counter = tf.Variable(0)\n",
    "\n",
    "agent = categorical_dqn_agent.CategoricalDqnAgent(\n",
    "    train_env.time_step_spec(),\n",
    "    train_env.action_spec(),\n",
    "    categorical_q_network=categorical_q_net,\n",
    "    optimizer=optimizer,\n",
    "    min_q_value=min_q_value,\n",
    "    max_q_value=max_q_value,\n",
    "    n_step_update=n_step_update,\n",
    "    td_errors_loss_fn=common.element_wise_squared_loss,\n",
    "    gamma=gamma,\n",
    "    train_step_counter=train_step_counter)\n",
    "agent.initialize()"
   ]
  },
  {
   "cell_type": "markdown",
   "metadata": {
    "id": "L7O7F_HqiQ1G"
   },
   "source": [
    "One last thing to note is that we also added an argument to use n-step updates with $n$ = 2. In single-step Q-learning ($n$ = 1), we only compute the error between the Q-values at the current time step and the next time step using the single-step return (based on the Bellman optimality equation). The single-step return is defined as:\n",
    "\n",
    "$G_t = R_{t + 1} + \\gamma V(s_{t + 1})$\n",
    "\n",
    "where we define $V(s) = \\max_a{Q(s, a)}$.\n",
    "\n",
    "N-step updates involve expanding the standard single-step return function $n$ times:\n",
    "\n",
    "$G_t^n = R_{t + 1} + \\gamma R_{t + 2} + \\gamma^2 R_{t + 3} + \\dots + \\gamma^n V(s_{t + n})$\n",
    "\n",
    "N-step updates enable the agent to bootstrap from further in the future, and with the right value of $n$, this often leads to faster learning.\n",
    "\n",
    "Although C51 and n-step updates are often combined with prioritized replay to form the core of the [Rainbow agent](https://arxiv.org/pdf/1710.02298.pdf), we saw no measurable improvement from implementing prioritized replay. Moreover, we find that when combining our C51 agent with n-step updates alone, our agent performs as well as other Rainbow agents on the sample of Atari environments we've tested."
   ]
  },
  {
   "cell_type": "markdown",
   "metadata": {
    "id": "94rCXQtbUbXv"
   },
   "source": [
    "## Metrics and Evaluation\n",
    "\n",
    "The most common metric used to evaluate a policy is the average return. The return is the sum of rewards obtained while running a policy in an environment for an episode, and we usually average this over a few episodes. We can compute the average return metric as follows.\n"
   ]
  },
  {
   "cell_type": "code",
   "execution_count": 8,
   "metadata": {
    "execution": {
     "iopub.execute_input": "2022-06-05T11:15:14.953338Z",
     "iopub.status.busy": "2022-06-05T11:15:14.952771Z",
     "iopub.status.idle": "2022-06-05T11:15:15.603548Z",
     "shell.execute_reply": "2022-06-05T11:15:15.602687Z"
    },
    "id": "bitzHo5_UbXy"
   },
   "outputs": [
    {
     "data": {
      "text/plain": [
       "25.1"
      ]
     },
     "execution_count": 8,
     "metadata": {},
     "output_type": "execute_result"
    }
   ],
   "source": [
    "#@test {\"skip\": true}\n",
    "def compute_avg_return(environment, policy, num_episodes=10):\n",
    "\n",
    "  total_return = 0.0\n",
    "  for _ in range(num_episodes):\n",
    "\n",
    "    time_step = environment.reset()\n",
    "    episode_return = 0.0\n",
    "\n",
    "    while not time_step.is_last():\n",
    "      action_step = policy.action(time_step)\n",
    "      time_step = environment.step(action_step.action)\n",
    "      episode_return += time_step.reward\n",
    "    total_return += episode_return\n",
    "\n",
    "  avg_return = total_return / num_episodes\n",
    "  return avg_return.numpy()[0]\n",
    "\n",
    "\n",
    "random_policy = random_tf_policy.RandomTFPolicy(train_env.time_step_spec(),\n",
    "                                                train_env.action_spec())\n",
    "\n",
    "compute_avg_return(eval_env, random_policy, num_eval_episodes)\n",
    "\n",
    "# Please also see the metrics module for standard implementations of different\n",
    "# metrics."
   ]
  },
  {
   "cell_type": "markdown",
   "metadata": {
    "id": "NLva6g2jdWgr"
   },
   "source": [
    "## Data Collection\n",
    "\n",
    "As in the DQN tutorial, set up the replay buffer and the initial data collection with the random policy."
   ]
  },
  {
   "cell_type": "code",
   "execution_count": 9,
   "metadata": {
    "execution": {
     "iopub.execute_input": "2022-06-05T11:15:15.606800Z",
     "iopub.status.busy": "2022-06-05T11:15:15.606538Z",
     "iopub.status.idle": "2022-06-05T11:15:20.380192Z",
     "shell.execute_reply": "2022-06-05T11:15:20.379320Z"
    },
    "id": "wr1KSAEGG4h9"
   },
   "outputs": [
    {
     "name": "stdout",
     "output_type": "stream",
     "text": [
      "WARNING:tensorflow:From /tmpfs/src/tf_docs_env/lib/python3.9/site-packages/tensorflow/python/autograph/impl/api.py:377: ReplayBuffer.get_next (from tf_agents.replay_buffers.replay_buffer) is deprecated and will be removed in a future version.\n",
      "Instructions for updating:\n",
      "Use `as_dataset(..., single_deterministic_pass=False) instead.\n"
     ]
    }
   ],
   "source": [
    "#@test {\"skip\": true}\n",
    "replay_buffer = tf_uniform_replay_buffer.TFUniformReplayBuffer(\n",
    "    data_spec=agent.collect_data_spec,\n",
    "    batch_size=train_env.batch_size,\n",
    "    max_length=replay_buffer_capacity)\n",
    "\n",
    "def collect_step(environment, policy):\n",
    "  time_step = environment.current_time_step()\n",
    "  action_step = policy.action(time_step)\n",
    "  next_time_step = environment.step(action_step.action)\n",
    "  traj = trajectory.from_transition(time_step, action_step, next_time_step)\n",
    "\n",
    "  # Add trajectory to the replay buffer\n",
    "  replay_buffer.add_batch(traj)\n",
    "\n",
    "for _ in range(initial_collect_steps):\n",
    "  collect_step(train_env, random_policy)\n",
    "\n",
    "# This loop is so common in RL, that we provide standard implementations of\n",
    "# these. For more details see the drivers module.\n",
    "\n",
    "# Dataset generates trajectories with shape [BxTx...] where\n",
    "# T = n_step_update + 1.\n",
    "dataset = replay_buffer.as_dataset(\n",
    "    num_parallel_calls=3, sample_batch_size=batch_size,\n",
    "    num_steps=n_step_update + 1).prefetch(3)\n",
    "\n",
    "iterator = iter(dataset)"
   ]
  },
  {
   "cell_type": "markdown",
   "metadata": {
    "id": "hBc9lj9VWWtZ"
   },
   "source": [
    "## Training the agent\n",
    "\n",
    "The training loop involves both collecting data from the environment and optimizing the agent's networks. Along the way, we will occasionally evaluate the agent's policy to see how we are doing.\n",
    "\n",
    "The following will take ~7 minutes to run."
   ]
  },
  {
   "cell_type": "code",
   "execution_count": 10,
   "metadata": {
    "execution": {
     "iopub.execute_input": "2022-06-05T11:15:20.384600Z",
     "iopub.status.busy": "2022-06-05T11:15:20.383846Z",
     "iopub.status.idle": "2022-06-05T11:23:02.910256Z",
     "shell.execute_reply": "2022-06-05T11:23:02.909460Z"
    },
    "id": "0pTbJ3PeyF-u"
   },
   "outputs": [
    {
     "name": "stdout",
     "output_type": "stream",
     "text": [
      "WARNING:tensorflow:From /tmpfs/src/tf_docs_env/lib/python3.9/site-packages/tensorflow/python/util/dispatch.py:1082: calling foldr_v2 (from tensorflow.python.ops.functional_ops) with back_prop=False is deprecated and will be removed in a future version.\n",
      "Instructions for updating:\n",
      "back_prop=False is deprecated. Consider using tf.stop_gradient instead.\n",
      "Instead of:\n",
      "results = tf.foldr(fn, elems, back_prop=False)\n",
      "Use:\n",
      "results = tf.nest.map_structure(tf.stop_gradient, tf.foldr(fn, elems))\n"
     ]
    },
    {
     "name": "stdout",
     "output_type": "stream",
     "text": [
      "step = 200: loss = 3.1652722358703613\n"
     ]
    },
    {
     "name": "stdout",
     "output_type": "stream",
     "text": [
      "step = 400: loss = 2.3220953941345215\n"
     ]
    },
    {
     "name": "stdout",
     "output_type": "stream",
     "text": [
      "step = 600: loss = 1.9085898399353027\n"
     ]
    },
    {
     "name": "stdout",
     "output_type": "stream",
     "text": [
      "step = 800: loss = 1.5957838296890259\n"
     ]
    },
    {
     "name": "stdout",
     "output_type": "stream",
     "text": [
      "step = 1000: loss = 1.373847484588623\n"
     ]
    },
    {
     "name": "stdout",
     "output_type": "stream",
     "text": [
      "step = 1000: Average Return = 466.70\n"
     ]
    },
    {
     "name": "stdout",
     "output_type": "stream",
     "text": [
      "step = 1200: loss = 1.2249349355697632\n"
     ]
    },
    {
     "name": "stdout",
     "output_type": "stream",
     "text": [
      "step = 1400: loss = 1.2289665937423706\n"
     ]
    },
    {
     "name": "stdout",
     "output_type": "stream",
     "text": [
      "step = 1600: loss = 1.225049614906311\n"
     ]
    },
    {
     "name": "stdout",
     "output_type": "stream",
     "text": [
      "step = 1800: loss = 1.4009439945220947\n"
     ]
    },
    {
     "name": "stdout",
     "output_type": "stream",
     "text": [
      "step = 2000: loss = 0.8110367059707642\n"
     ]
    },
    {
     "name": "stdout",
     "output_type": "stream",
     "text": [
      "step = 2000: Average Return = 310.30\n"
     ]
    },
    {
     "name": "stdout",
     "output_type": "stream",
     "text": [
      "step = 2200: loss = 0.8426725268363953\n"
     ]
    },
    {
     "name": "stdout",
     "output_type": "stream",
     "text": [
      "step = 2400: loss = 0.9993857145309448\n"
     ]
    },
    {
     "name": "stdout",
     "output_type": "stream",
     "text": [
      "step = 2600: loss = 0.7408146858215332\n"
     ]
    },
    {
     "name": "stdout",
     "output_type": "stream",
     "text": [
      "step = 2800: loss = 1.0472800731658936\n"
     ]
    },
    {
     "name": "stdout",
     "output_type": "stream",
     "text": [
      "step = 3000: loss = 0.8934259414672852\n"
     ]
    },
    {
     "name": "stdout",
     "output_type": "stream",
     "text": [
      "step = 3000: Average Return = 294.80\n"
     ]
    },
    {
     "name": "stdout",
     "output_type": "stream",
     "text": [
      "step = 3200: loss = 0.67853844165802\n"
     ]
    },
    {
     "name": "stdout",
     "output_type": "stream",
     "text": [
      "step = 3400: loss = 0.9168663024902344\n"
     ]
    },
    {
     "name": "stdout",
     "output_type": "stream",
     "text": [
      "step = 3600: loss = 0.6471030712127686\n"
     ]
    },
    {
     "name": "stdout",
     "output_type": "stream",
     "text": [
      "step = 3800: loss = 0.8118085861206055\n"
     ]
    },
    {
     "name": "stdout",
     "output_type": "stream",
     "text": [
      "step = 4000: loss = 0.7178002595901489\n"
     ]
    },
    {
     "name": "stdout",
     "output_type": "stream",
     "text": [
      "step = 4000: Average Return = 339.10\n"
     ]
    },
    {
     "name": "stdout",
     "output_type": "stream",
     "text": [
      "step = 4200: loss = 0.5277565717697144\n"
     ]
    },
    {
     "name": "stdout",
     "output_type": "stream",
     "text": [
      "step = 4400: loss = 0.6562362909317017\n"
     ]
    },
    {
     "name": "stdout",
     "output_type": "stream",
     "text": [
      "step = 4600: loss = 0.6893218755722046\n"
     ]
    },
    {
     "name": "stdout",
     "output_type": "stream",
     "text": [
      "step = 4800: loss = 0.6171445846557617\n"
     ]
    },
    {
     "name": "stdout",
     "output_type": "stream",
     "text": [
      "step = 5000: loss = 0.6233919262886047\n"
     ]
    },
    {
     "name": "stdout",
     "output_type": "stream",
     "text": [
      "step = 5000: Average Return = 192.00\n"
     ]
    },
    {
     "name": "stdout",
     "output_type": "stream",
     "text": [
      "step = 5200: loss = 0.5258955359458923\n"
     ]
    },
    {
     "name": "stdout",
     "output_type": "stream",
     "text": [
      "step = 5400: loss = 0.6037764549255371\n"
     ]
    },
    {
     "name": "stdout",
     "output_type": "stream",
     "text": [
      "step = 5600: loss = 0.6617163419723511\n"
     ]
    },
    {
     "name": "stdout",
     "output_type": "stream",
     "text": [
      "step = 5800: loss = 0.45471426844596863\n"
     ]
    },
    {
     "name": "stdout",
     "output_type": "stream",
     "text": [
      "step = 6000: loss = 0.5623942017555237\n"
     ]
    },
    {
     "name": "stdout",
     "output_type": "stream",
     "text": [
      "step = 6000: Average Return = 375.00\n"
     ]
    },
    {
     "name": "stdout",
     "output_type": "stream",
     "text": [
      "step = 6200: loss = 0.5260623097419739\n"
     ]
    },
    {
     "name": "stdout",
     "output_type": "stream",
     "text": [
      "step = 6400: loss = 0.5474383234977722\n"
     ]
    },
    {
     "name": "stdout",
     "output_type": "stream",
     "text": [
      "step = 6600: loss = 0.6723802089691162\n"
     ]
    },
    {
     "name": "stdout",
     "output_type": "stream",
     "text": [
      "step = 6800: loss = 0.4168206453323364\n"
     ]
    },
    {
     "name": "stdout",
     "output_type": "stream",
     "text": [
      "step = 7000: loss = 0.6093295812606812\n"
     ]
    },
    {
     "name": "stdout",
     "output_type": "stream",
     "text": [
      "step = 7000: Average Return = 396.20\n"
     ]
    },
    {
     "name": "stdout",
     "output_type": "stream",
     "text": [
      "step = 7200: loss = 0.5631401538848877\n"
     ]
    },
    {
     "name": "stdout",
     "output_type": "stream",
     "text": [
      "step = 7400: loss = 0.5302916765213013\n"
     ]
    },
    {
     "name": "stdout",
     "output_type": "stream",
     "text": [
      "step = 7600: loss = 0.4411312937736511\n"
     ]
    },
    {
     "name": "stdout",
     "output_type": "stream",
     "text": [
      "step = 7800: loss = 0.5489145517349243\n"
     ]
    },
    {
     "name": "stdout",
     "output_type": "stream",
     "text": [
      "step = 8000: loss = 0.4881543517112732\n"
     ]
    },
    {
     "name": "stdout",
     "output_type": "stream",
     "text": [
      "step = 8000: Average Return = 352.20\n"
     ]
    },
    {
     "name": "stdout",
     "output_type": "stream",
     "text": [
      "step = 8200: loss = 0.5519999265670776\n"
     ]
    },
    {
     "name": "stdout",
     "output_type": "stream",
     "text": [
      "step = 8400: loss = 0.4684922993183136\n"
     ]
    },
    {
     "name": "stdout",
     "output_type": "stream",
     "text": [
      "step = 8600: loss = 0.523332953453064\n"
     ]
    },
    {
     "name": "stdout",
     "output_type": "stream",
     "text": [
      "step = 8800: loss = 0.4230990409851074\n"
     ]
    },
    {
     "name": "stdout",
     "output_type": "stream",
     "text": [
      "step = 9000: loss = 0.5511386394500732\n"
     ]
    },
    {
     "name": "stdout",
     "output_type": "stream",
     "text": [
      "step = 9000: Average Return = 169.30\n"
     ]
    },
    {
     "name": "stdout",
     "output_type": "stream",
     "text": [
      "step = 9200: loss = 0.5994375944137573\n"
     ]
    },
    {
     "name": "stdout",
     "output_type": "stream",
     "text": [
      "step = 9400: loss = 0.3859468698501587\n"
     ]
    },
    {
     "name": "stdout",
     "output_type": "stream",
     "text": [
      "step = 9600: loss = 0.3768221437931061\n"
     ]
    },
    {
     "name": "stdout",
     "output_type": "stream",
     "text": [
      "step = 9800: loss = 0.3608618378639221\n"
     ]
    },
    {
     "name": "stdout",
     "output_type": "stream",
     "text": [
      "step = 10000: loss = 0.45109525322914124\n"
     ]
    },
    {
     "name": "stdout",
     "output_type": "stream",
     "text": [
      "step = 10000: Average Return = 159.40\n"
     ]
    },
    {
     "name": "stdout",
     "output_type": "stream",
     "text": [
      "step = 10200: loss = 0.4834355115890503\n"
     ]
    },
    {
     "name": "stdout",
     "output_type": "stream",
     "text": [
      "step = 10400: loss = 0.3417738378047943\n"
     ]
    },
    {
     "name": "stdout",
     "output_type": "stream",
     "text": [
      "step = 10600: loss = 0.42035162448883057\n"
     ]
    },
    {
     "name": "stdout",
     "output_type": "stream",
     "text": [
      "step = 10800: loss = 0.513039231300354\n"
     ]
    },
    {
     "name": "stdout",
     "output_type": "stream",
     "text": [
      "step = 11000: loss = 0.4203823208808899\n"
     ]
    },
    {
     "name": "stdout",
     "output_type": "stream",
     "text": [
      "step = 11000: Average Return = 329.90\n"
     ]
    },
    {
     "name": "stdout",
     "output_type": "stream",
     "text": [
      "step = 11200: loss = 0.532701849937439\n"
     ]
    },
    {
     "name": "stdout",
     "output_type": "stream",
     "text": [
      "step = 11400: loss = 0.34555840492248535\n"
     ]
    },
    {
     "name": "stdout",
     "output_type": "stream",
     "text": [
      "step = 11600: loss = 0.23318243026733398\n"
     ]
    },
    {
     "name": "stdout",
     "output_type": "stream",
     "text": [
      "step = 11800: loss = 0.373273640871048\n"
     ]
    },
    {
     "name": "stdout",
     "output_type": "stream",
     "text": [
      "step = 12000: loss = 0.4745432734489441\n"
     ]
    },
    {
     "name": "stdout",
     "output_type": "stream",
     "text": [
      "step = 12000: Average Return = 484.00\n"
     ]
    },
    {
     "name": "stdout",
     "output_type": "stream",
     "text": [
      "step = 12200: loss = 0.38893377780914307\n"
     ]
    },
    {
     "name": "stdout",
     "output_type": "stream",
     "text": [
      "step = 12400: loss = 0.45256471633911133\n"
     ]
    },
    {
     "name": "stdout",
     "output_type": "stream",
     "text": [
      "step = 12600: loss = 0.2996901571750641\n"
     ]
    },
    {
     "name": "stdout",
     "output_type": "stream",
     "text": [
      "step = 12800: loss = 0.44166380167007446\n"
     ]
    },
    {
     "name": "stdout",
     "output_type": "stream",
     "text": [
      "step = 13000: loss = 0.34164178371429443\n"
     ]
    },
    {
     "name": "stdout",
     "output_type": "stream",
     "text": [
      "step = 13000: Average Return = 329.70\n"
     ]
    },
    {
     "name": "stdout",
     "output_type": "stream",
     "text": [
      "step = 13200: loss = 0.45920413732528687\n"
     ]
    },
    {
     "name": "stdout",
     "output_type": "stream",
     "text": [
      "step = 13400: loss = 0.4424200654029846\n"
     ]
    },
    {
     "name": "stdout",
     "output_type": "stream",
     "text": [
      "step = 13600: loss = 0.48878079652786255\n"
     ]
    },
    {
     "name": "stdout",
     "output_type": "stream",
     "text": [
      "step = 13800: loss = 0.48222893476486206\n"
     ]
    },
    {
     "name": "stdout",
     "output_type": "stream",
     "text": [
      "step = 14000: loss = 0.3798040747642517\n"
     ]
    },
    {
     "name": "stdout",
     "output_type": "stream",
     "text": [
      "step = 14000: Average Return = 433.20\n"
     ]
    },
    {
     "name": "stdout",
     "output_type": "stream",
     "text": [
      "step = 14200: loss = 0.46709728240966797\n"
     ]
    },
    {
     "name": "stdout",
     "output_type": "stream",
     "text": [
      "step = 14400: loss = 0.24153408408164978\n"
     ]
    },
    {
     "name": "stdout",
     "output_type": "stream",
     "text": [
      "step = 14600: loss = 0.28913378715515137\n"
     ]
    },
    {
     "name": "stdout",
     "output_type": "stream",
     "text": [
      "step = 14800: loss = 0.36507582664489746\n"
     ]
    },
    {
     "name": "stdout",
     "output_type": "stream",
     "text": [
      "step = 15000: loss = 0.32009801268577576\n"
     ]
    },
    {
     "name": "stdout",
     "output_type": "stream",
     "text": [
      "step = 15000: Average Return = 141.00\n"
     ]
    }
   ],
   "source": [
    "#@test {\"skip\": true}\n",
    "try:\n",
    "  %%time\n",
    "except:\n",
    "  pass\n",
    "\n",
    "# (Optional) Optimize by wrapping some of the code in a graph using TF function.\n",
    "agent.train = common.function(agent.train)\n",
    "\n",
    "# Reset the train step\n",
    "agent.train_step_counter.assign(0)\n",
    "\n",
    "# Evaluate the agent's policy once before training.\n",
    "avg_return = compute_avg_return(eval_env, agent.policy, num_eval_episodes)\n",
    "returns = [avg_return]\n",
    "\n",
    "for _ in range(num_iterations):\n",
    "\n",
    "  # Collect a few steps using collect_policy and save to the replay buffer.\n",
    "  for _ in range(collect_steps_per_iteration):\n",
    "    collect_step(train_env, agent.collect_policy)\n",
    "\n",
    "  # Sample a batch of data from the buffer and update the agent's network.\n",
    "  experience, unused_info = next(iterator)\n",
    "  train_loss = agent.train(experience)\n",
    "\n",
    "  step = agent.train_step_counter.numpy()\n",
    "\n",
    "  if step % log_interval == 0:\n",
    "    print('step = {0}: loss = {1}'.format(step, train_loss.loss))\n",
    "\n",
    "  if step % eval_interval == 0:\n",
    "    avg_return = compute_avg_return(eval_env, agent.policy, num_eval_episodes)\n",
    "    print('step = {0}: Average Return = {1:.2f}'.format(step, avg_return))\n",
    "    returns.append(avg_return)"
   ]
  },
  {
   "cell_type": "markdown",
   "metadata": {
    "id": "68jNcA_TiJDq"
   },
   "source": [
    "## Visualization\n"
   ]
  },
  {
   "cell_type": "markdown",
   "metadata": {
    "id": "aO-LWCdbbOIC"
   },
   "source": [
    "### Plots\n",
    "\n",
    "We can plot return vs global steps to see the performance of our agent. In `Cartpole-v1`, the environment gives a reward of +1 for every time step the pole stays up, and since the maximum number of steps is 500, the maximum possible return is also 500."
   ]
  },
  {
   "cell_type": "code",
   "execution_count": 11,
   "metadata": {
    "execution": {
     "iopub.execute_input": "2022-06-05T11:23:02.913604Z",
     "iopub.status.busy": "2022-06-05T11:23:02.913348Z",
     "iopub.status.idle": "2022-06-05T11:23:03.079246Z",
     "shell.execute_reply": "2022-06-05T11:23:03.078581Z"
    },
    "id": "NxtL1mbOYCVO"
   },
   "outputs": [
    {
     "data": {
      "text/plain": [
       "(-14.11999959945679, 550.0)"
      ]
     },
     "execution_count": 11,
     "metadata": {},
     "output_type": "execute_result"
    },
    {
     "data": {
      "image/png": "[encoded data removed]",
      "text/plain": [
       "<Figure size 432x288 with 1 Axes>"
      ]
     },
     "metadata": {
      "needs_background": "light"
     },
     "output_type": "display_data"
    }
   ],
   "source": [
    "#@test {\"skip\": true}\n",
    "\n",
    "steps = range(0, num_iterations + 1, eval_interval)\n",
    "plt.plot(steps, returns)\n",
    "plt.ylabel('Average Return')\n",
    "plt.xlabel('Step')\n",
    "plt.ylim(top=550)"
   ]
  },
  {
   "cell_type": "markdown",
   "metadata": {
    "id": "M7-XpPP99Cy7"
   },
   "source": [
    "### Videos"
   ]
  },
  {
   "cell_type": "markdown",
   "metadata": {
    "id": "9pGfGxSH32gn"
   },
   "source": [
    "It is helpful to visualize the performance of an agent by rendering the environment at each step. Before we do that, let us first create a function to embed videos in this colab."
   ]
  },
  {
   "cell_type": "code",
   "execution_count": 12,
   "metadata": {
    "execution": {
     "iopub.execute_input": "2022-06-05T11:23:03.082818Z",
     "iopub.status.busy": "2022-06-05T11:23:03.082250Z",
     "iopub.status.idle": "2022-06-05T11:23:03.086330Z",
     "shell.execute_reply": "2022-06-05T11:23:03.085783Z"
    },
    "id": "ULaGr8pvOKbl"
   },
   "outputs": [],
   "source": [
    "def embed_mp4(filename):\n",
    "  \"\"\"Embeds an mp4 file in the notebook.\"\"\"\n",
    "  video = open(filename,'rb').read()\n",
    "  b64 = base64.b64encode(video)\n",
    "  tag = '''\n",
    "  <video width=\"640\" height=\"480\" controls>\n",
    "    <source src=\"data:video/mp4;base64,{0}\" type=\"video/mp4\">\n",
    "  Your browser does not support the video tag.\n",
    "  </video>'''.format(b64.decode())\n",
    "\n",
    "  return IPython.display.HTML(tag)"
   ]
  },
  {
   "cell_type": "markdown",
   "metadata": {
    "id": "9c_PH-pX4Pr5"
   },
   "source": [
    "The following code visualizes the agent's policy for a few episodes:"
   ]
  },
  {
   "cell_type": "code",
   "execution_count": 13,
   "metadata": {
    "execution": {
     "iopub.execute_input": "2022-06-05T11:23:03.089395Z",
     "iopub.status.busy": "2022-06-05T11:23:03.088973Z",
     "iopub.status.idle": "2022-06-05T11:23:07.622332Z",
     "shell.execute_reply": "2022-06-05T11:23:07.621538Z"
    },
    "id": "owOVWB158NlF"
   },
   "outputs": [
    {
     "name": "stderr",
     "output_type": "stream",
     "text": [
      "WARNING:root:IMAGEIO FFMPEG_WRITER WARNING: input image is not divisible by macro_block_size=16, resizing from (400, 600) to (400, 608) to ensure video compatibility with most codecs and players. To prevent resizing, make your input image divisible by the macro_block_size or set the macro_block_size to None (risking incompatibility). You may also see a FFMPEG warning concerning speedloss due to data not being aligned.\n"
     ]
    },
    {
     "name": "stderr",
     "output_type": "stream",
     "text": [
      "[swscaler @ 0x56191e3c7880] Warning: data is not aligned! This can lead to a speed loss\n"
     ]
    },
    {
     "data": {
      "text/html": [
       "\n",
       "  <video width=\"640\" height=\"480\" controls>\n",
       "    <source src=\"data:video/mp4;base64,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\" type=\"video/mp4\">\n",
       "  Your browser does not support the video tag.\n",
       "  </video>"
      ],
      "text/plain": [
       "<IPython.core.display.HTML object>"
      ]
     },
     "execution_count": 13,
     "metadata": {},
     "output_type": "execute_result"
    }
   ],
   "source": [
    "num_episodes = 3\n",
    "video_filename = 'imageio.mp4'\n",
    "with imageio.get_writer(video_filename, fps=60) as video:\n",
    "  for _ in range(num_episodes):\n",
    "    time_step = eval_env.reset()\n",
    "    video.append_data(eval_py_env.render())\n",
    "    while not time_step.is_last():\n",
    "      action_step = agent.policy.action(time_step)\n",
    "      time_step = eval_env.step(action_step.action)\n",
    "      video.append_data(eval_py_env.render())\n",
    "\n",
    "embed_mp4(video_filename)"
   ]
  },
  {
   "cell_type": "markdown",
   "metadata": {
    "id": "exziB27hY8ia"
   },
   "source": [
    "C51 tends to do slightly better than DQN on CartPole-v1, but the difference between the two agents becomes more and more significant in increasingly complex environments. For example, on the full Atari 2600 benchmark, C51 demonstrates a mean score improvement of 126% over DQN after normalizing with respect to a random agent. Additional improvements can be gained by including n-step updates.\n",
    "\n",
    "For a deeper dive into the C51 algorithm, see [A Distributional Perspective on Reinforcement Learning (2017)](https://arxiv.org/pdf/1707.06887.pdf)."
   ]
  }
 ],
 "metadata": {
  "colab": {
   "collapsed_sections": [],
   "name": "DQN C51/Rainbow Tutorial.ipynb",
   "private_outputs": true,
   "provenance": [],
   "toc_visible": true
  },
  "kernelspec": {
   "display_name": "Python 3.9.12 ('tf')",
   "language": "python",
   "name": "python3"
  },
  "language_info": {
   "codemirror_mode": {
    "name": "ipython",
    "version": 3
   },
   "file_extension": ".py",
   "mimetype": "text/x-python",
   "name": "python",
   "nbconvert_exporter": "python",
   "pygments_lexer": "ipython3",
   "version": "3.9.12"
  },
  "pycharm": {
   "stem_cell": {
    "cell_type": "raw",
    "metadata": {
     "collapsed": false
    },
    "source": []
   }
  },
  "vscode": {
   "interpreter": {
    "hash": "ec2c0070c8e2d69798538530e11a671a1e81720516052253d928f78df07512b4"
   }
  }
 },
 "nbformat": 4,
 "nbformat_minor": 0
}
