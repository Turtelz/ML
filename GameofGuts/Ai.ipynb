{
 "cells": [
  {
   "cell_type": "code",
   "execution_count": null,
   "metadata": {},
   "outputs": [],
   "source": [
    "from typing import Callable, Dict, List, Optional, Tuple, Type, Union\n",
    "import gym\n",
    "from gym import spaces, Env\n",
    "from gym.spaces import Box\n",
    "import keyboard\n",
    "import pygame\n",
    "import numpy as np\n",
    "from random import randint\n",
    "from stable_baselines3 import A2C\n",
    "from stable_baselines3.common.callbacks import CheckpointCallback\n",
    "from stable_baselines3.common.env_checker import check_env\n",
    "from matplotlib import pyplot as plt\n",
    "from stable_baselines3.common.env_util import make_vec_env\n",
    "import random\n",
    "import torch as th\n",
    "import torch.nn as nn\n",
    "from stable_baselines3.common.torch_layers import BaseFeaturesExtractor\n",
    "from stable_baselines3.common.policies import ActorCriticPolicy\n",
    "import torch.nn.functional as F\n",
    "from torch.distributions import Categorical\n",
    "import matplotlib.pyplot as plt\n",
    "testEnv = True"
   ]
  },
  {
   "cell_type": "code",
   "execution_count": 50,
   "metadata": {},
   "outputs": [
    {
     "name": "stdout",
     "output_type": "stream",
     "text": [
      "passed Check_env\n"
     ]
    }
   ],
   "source": [
    "class GutsGame(gym.Env):\n",
    "    def __init__(self):\n",
    "        # Actions we can take bank, or roll again\n",
    "        self.action_space = spaces.Discrete(2)\n",
    "        #  bank and unbanked\n",
    "        self.observation_space = spaces.Box(0,150,shape=(2,),dtype=np.uint8)\n",
    "        # Set start value\n",
    "        self.bank = 0\n",
    "        self.unbank = 0\n",
    "        # Set turn\n",
    "        self.turn = 1000\n",
    "        \n",
    "    def step(self, action):\n",
    "        # Apply action\n",
    "        # 0: bank\n",
    "        # 1: roll again\n",
    "        \n",
    "        reward = 0\n",
    "        if action == 1:\n",
    "            diceRoll1 = random.randint(1, 6)\n",
    "            diceRoll2 = random.randint(1, 6)\n",
    "            #print(diceRoll1,diceRoll2)\n",
    "            if diceRoll1 == 6 and diceRoll2 == 6:\n",
    "                self.unbank = 0\n",
    "                self.bank = 0\n",
    "            elif diceRoll1 == 6 or diceRoll2 == 6:\n",
    "                self.unbank = 0\n",
    "            else:\n",
    "                self.unbank += (diceRoll1 + diceRoll2)\n",
    "        else:\n",
    "            self.bank += self.unbank\n",
    "            self.unbank = 0\n",
    "        \n",
    "        # Reduce turn\n",
    "        self.turn -= 1 \n",
    "        \n",
    "        # Check if timer is done or if player won\n",
    "        if self.turn <= 0 or self.bank >= 100:\n",
    "            reward = self.turn\n",
    "            done = True\n",
    "        else:\n",
    "            done = False\n",
    "        \n",
    "        # Set placeholder for info\n",
    "        info = {}\n",
    "        obs = np.array([self.bank,self.unbank]).astype(np.uint8)\n",
    "        # Return step information\n",
    "        return obs, reward, done, info\n",
    "\n",
    "    def render(self):\n",
    "        pass\n",
    "    \n",
    "    def reset(self):\n",
    "        # Reset start value\n",
    "        self.bank = 0\n",
    "        self.unbank = 0\n",
    "        obs = np.array([self.bank,self.unbank]).astype(np.uint8)\n",
    "        #print(np.shape(obs))\n",
    "        # Reset time\n",
    "        self.turn = 1000\n",
    "        return obs\n",
    "env = GutsGame()\n",
    "check_env(env)\n",
    "print(\"passed Check_env\")"
   ]
  },
  {
   "cell_type": "code",
   "execution_count": 24,
   "metadata": {},
   "outputs": [
    {
     "name": "stdout",
     "output_type": "stream",
     "text": [
      "Using cpu device\n",
      "Wrapping the env with a `Monitor` wrapper\n",
      "Wrapping the env in a DummyVecEnv.\n"
     ]
    },
    {
     "ename": "FileNotFoundError",
     "evalue": "[Errno 2] No such file or directory: 'ML\\\\GameofGuts\\\\GutBot_50000_stepsA2C.zip'",
     "output_type": "error",
     "traceback": [
      "\u001b[1;31m---------------------------------------------------------------------------\u001b[0m",
      "\u001b[1;31mFileNotFoundError\u001b[0m                         Traceback (most recent call last)",
      "\u001b[1;32mc:\\Users\\sheld\\Desktop\\Desktop\\Productive_stuff\\Notes\\Turtelz\\Code\\Aplications of Notes\\ML\\GameofGuts\\Ai.ipynb Cell 3\u001b[0m in \u001b[0;36m<cell line: 13>\u001b[1;34m()\u001b[0m\n\u001b[0;32m      <a href='vscode-notebook-cell:/c%3A/Users/sheld/Desktop/Desktop/Productive_stuff/Notes/Turtelz/Code/Aplications%20of%20Notes/ML/GameofGuts/Ai.ipynb#W2sZmlsZQ%3D%3D?line=8'>9</a>\u001b[0m checkpoint_callback \u001b[39m=\u001b[39m CheckpointCallback(save_freq\u001b[39m=\u001b[39mtotalTimeSteps\u001b[39m/\u001b[39mnumberOfCheckpoints, save_path\u001b[39m=\u001b[39msave_directory,\n\u001b[0;32m     <a href='vscode-notebook-cell:/c%3A/Users/sheld/Desktop/Desktop/Productive_stuff/Notes/Turtelz/Code/Aplications%20of%20Notes/ML/GameofGuts/Ai.ipynb#W2sZmlsZQ%3D%3D?line=9'>10</a>\u001b[0m                                          name_prefix\u001b[39m=\u001b[39m\u001b[39m'\u001b[39m\u001b[39mGutBot\u001b[39m\u001b[39m'\u001b[39m)\n\u001b[0;32m     <a href='vscode-notebook-cell:/c%3A/Users/sheld/Desktop/Desktop/Productive_stuff/Notes/Turtelz/Code/Aplications%20of%20Notes/ML/GameofGuts/Ai.ipynb#W2sZmlsZQ%3D%3D?line=11'>12</a>\u001b[0m \u001b[39m#model.learn(total_timesteps=totalTimeSteps,callback=checkpoint_callback) \u001b[39;00m\n\u001b[1;32m---> <a href='vscode-notebook-cell:/c%3A/Users/sheld/Desktop/Desktop/Productive_stuff/Notes/Turtelz/Code/Aplications%20of%20Notes/ML/GameofGuts/Ai.ipynb#W2sZmlsZQ%3D%3D?line=12'>13</a>\u001b[0m model \u001b[39m=\u001b[39m model\u001b[39m.\u001b[39;49mload(\u001b[39m\"\u001b[39;49m\u001b[39mML/GameofGuts/GutBot_50000_stepsA2C\u001b[39;49m\u001b[39m\"\u001b[39;49m)\n\u001b[0;32m     <a href='vscode-notebook-cell:/c%3A/Users/sheld/Desktop/Desktop/Productive_stuff/Notes/Turtelz/Code/Aplications%20of%20Notes/ML/GameofGuts/Ai.ipynb#W2sZmlsZQ%3D%3D?line=14'>15</a>\u001b[0m obs \u001b[39m=\u001b[39m env\u001b[39m.\u001b[39mreset()\n\u001b[0;32m     <a href='vscode-notebook-cell:/c%3A/Users/sheld/Desktop/Desktop/Productive_stuff/Notes/Turtelz/Code/Aplications%20of%20Notes/ML/GameofGuts/Ai.ipynb#W2sZmlsZQ%3D%3D?line=15'>16</a>\u001b[0m \u001b[39m#print(obs)\u001b[39;00m\n",
      "File \u001b[1;32mc:\\Users\\sheld\\anaconda3\\envs\\ML\\lib\\site-packages\\stable_baselines3\\common\\base_class.py:704\u001b[0m, in \u001b[0;36mBaseAlgorithm.load\u001b[1;34m(cls, path, env, device, custom_objects, print_system_info, force_reset, **kwargs)\u001b[0m\n\u001b[0;32m    701\u001b[0m     \u001b[39mprint\u001b[39m(\u001b[39m\"\u001b[39m\u001b[39m== CURRENT SYSTEM INFO ==\u001b[39m\u001b[39m\"\u001b[39m)\n\u001b[0;32m    702\u001b[0m     get_system_info()\n\u001b[1;32m--> 704\u001b[0m data, params, pytorch_variables \u001b[39m=\u001b[39m load_from_zip_file(\n\u001b[0;32m    705\u001b[0m     path, device\u001b[39m=\u001b[39;49mdevice, custom_objects\u001b[39m=\u001b[39;49mcustom_objects, print_system_info\u001b[39m=\u001b[39;49mprint_system_info\n\u001b[0;32m    706\u001b[0m )\n\u001b[0;32m    708\u001b[0m \u001b[39m# Remove stored device information and replace with ours\u001b[39;00m\n\u001b[0;32m    709\u001b[0m \u001b[39mif\u001b[39;00m \u001b[39m\"\u001b[39m\u001b[39mpolicy_kwargs\u001b[39m\u001b[39m\"\u001b[39m \u001b[39min\u001b[39;00m data:\n",
      "File \u001b[1;32mc:\\Users\\sheld\\anaconda3\\envs\\ML\\lib\\site-packages\\stable_baselines3\\common\\save_util.py:388\u001b[0m, in \u001b[0;36mload_from_zip_file\u001b[1;34m(load_path, load_data, custom_objects, device, verbose, print_system_info)\u001b[0m\n\u001b[0;32m    361\u001b[0m \u001b[39mdef\u001b[39;00m \u001b[39mload_from_zip_file\u001b[39m(\n\u001b[0;32m    362\u001b[0m     load_path: Union[\u001b[39mstr\u001b[39m, pathlib\u001b[39m.\u001b[39mPath, io\u001b[39m.\u001b[39mBufferedIOBase],\n\u001b[0;32m    363\u001b[0m     load_data: \u001b[39mbool\u001b[39m \u001b[39m=\u001b[39m \u001b[39mTrue\u001b[39;00m,\n\u001b[1;32m   (...)\u001b[0m\n\u001b[0;32m    367\u001b[0m     print_system_info: \u001b[39mbool\u001b[39m \u001b[39m=\u001b[39m \u001b[39mFalse\u001b[39;00m,\n\u001b[0;32m    368\u001b[0m ) \u001b[39m-\u001b[39m\u001b[39m>\u001b[39m (Tuple[Optional[Dict[\u001b[39mstr\u001b[39m, Any]], Optional[TensorDict], Optional[TensorDict]]):\n\u001b[0;32m    369\u001b[0m     \u001b[39m\"\"\"\u001b[39;00m\n\u001b[0;32m    370\u001b[0m \u001b[39m    Load model data from a .zip archive\u001b[39;00m\n\u001b[0;32m    371\u001b[0m \n\u001b[1;32m   (...)\u001b[0m\n\u001b[0;32m    386\u001b[0m \u001b[39m        and dict of pytorch variables\u001b[39;00m\n\u001b[0;32m    387\u001b[0m \u001b[39m    \"\"\"\u001b[39;00m\n\u001b[1;32m--> 388\u001b[0m     load_path \u001b[39m=\u001b[39m open_path(load_path, \u001b[39m\"\u001b[39;49m\u001b[39mr\u001b[39;49m\u001b[39m\"\u001b[39;49m, verbose\u001b[39m=\u001b[39;49mverbose, suffix\u001b[39m=\u001b[39;49m\u001b[39m\"\u001b[39;49m\u001b[39mzip\u001b[39;49m\u001b[39m\"\u001b[39;49m)\n\u001b[0;32m    390\u001b[0m     \u001b[39m# set device to cpu if cuda is not available\u001b[39;00m\n\u001b[0;32m    391\u001b[0m     device \u001b[39m=\u001b[39m get_device(device\u001b[39m=\u001b[39mdevice)\n",
      "File \u001b[1;32mc:\\Users\\sheld\\anaconda3\\envs\\ML\\lib\\functools.py:889\u001b[0m, in \u001b[0;36msingledispatch.<locals>.wrapper\u001b[1;34m(*args, **kw)\u001b[0m\n\u001b[0;32m    885\u001b[0m \u001b[39mif\u001b[39;00m \u001b[39mnot\u001b[39;00m args:\n\u001b[0;32m    886\u001b[0m     \u001b[39mraise\u001b[39;00m \u001b[39mTypeError\u001b[39;00m(\u001b[39mf\u001b[39m\u001b[39m'\u001b[39m\u001b[39m{\u001b[39;00mfuncname\u001b[39m}\u001b[39;00m\u001b[39m requires at least \u001b[39m\u001b[39m'\u001b[39m\n\u001b[0;32m    887\u001b[0m                     \u001b[39m'\u001b[39m\u001b[39m1 positional argument\u001b[39m\u001b[39m'\u001b[39m)\n\u001b[1;32m--> 889\u001b[0m \u001b[39mreturn\u001b[39;00m dispatch(args[\u001b[39m0\u001b[39m]\u001b[39m.\u001b[39m\u001b[39m__class__\u001b[39m)(\u001b[39m*\u001b[39margs, \u001b[39m*\u001b[39m\u001b[39m*\u001b[39mkw)\n",
      "File \u001b[1;32mc:\\Users\\sheld\\anaconda3\\envs\\ML\\lib\\site-packages\\stable_baselines3\\common\\save_util.py:232\u001b[0m, in \u001b[0;36mopen_path_str\u001b[1;34m(path, mode, verbose, suffix)\u001b[0m\n\u001b[0;32m    217\u001b[0m \u001b[39m@open_path\u001b[39m\u001b[39m.\u001b[39mregister(\u001b[39mstr\u001b[39m)\n\u001b[0;32m    218\u001b[0m \u001b[39mdef\u001b[39;00m \u001b[39mopen_path_str\u001b[39m(path: \u001b[39mstr\u001b[39m, mode: \u001b[39mstr\u001b[39m, verbose: \u001b[39mint\u001b[39m \u001b[39m=\u001b[39m \u001b[39m0\u001b[39m, suffix: Optional[\u001b[39mstr\u001b[39m] \u001b[39m=\u001b[39m \u001b[39mNone\u001b[39;00m) \u001b[39m-\u001b[39m\u001b[39m>\u001b[39m io\u001b[39m.\u001b[39mBufferedIOBase:\n\u001b[0;32m    219\u001b[0m     \u001b[39m\"\"\"\u001b[39;00m\n\u001b[0;32m    220\u001b[0m \u001b[39m    Open a path given by a string. If writing to the path, the function ensures\u001b[39;00m\n\u001b[0;32m    221\u001b[0m \u001b[39m    that the path exists.\u001b[39;00m\n\u001b[1;32m   (...)\u001b[0m\n\u001b[0;32m    230\u001b[0m \u001b[39m    :return:\u001b[39;00m\n\u001b[0;32m    231\u001b[0m \u001b[39m    \"\"\"\u001b[39;00m\n\u001b[1;32m--> 232\u001b[0m     \u001b[39mreturn\u001b[39;00m open_path(pathlib\u001b[39m.\u001b[39;49mPath(path), mode, verbose, suffix)\n",
      "File \u001b[1;32mc:\\Users\\sheld\\anaconda3\\envs\\ML\\lib\\functools.py:889\u001b[0m, in \u001b[0;36msingledispatch.<locals>.wrapper\u001b[1;34m(*args, **kw)\u001b[0m\n\u001b[0;32m    885\u001b[0m \u001b[39mif\u001b[39;00m \u001b[39mnot\u001b[39;00m args:\n\u001b[0;32m    886\u001b[0m     \u001b[39mraise\u001b[39;00m \u001b[39mTypeError\u001b[39;00m(\u001b[39mf\u001b[39m\u001b[39m'\u001b[39m\u001b[39m{\u001b[39;00mfuncname\u001b[39m}\u001b[39;00m\u001b[39m requires at least \u001b[39m\u001b[39m'\u001b[39m\n\u001b[0;32m    887\u001b[0m                     \u001b[39m'\u001b[39m\u001b[39m1 positional argument\u001b[39m\u001b[39m'\u001b[39m)\n\u001b[1;32m--> 889\u001b[0m \u001b[39mreturn\u001b[39;00m dispatch(args[\u001b[39m0\u001b[39m]\u001b[39m.\u001b[39m\u001b[39m__class__\u001b[39m)(\u001b[39m*\u001b[39margs, \u001b[39m*\u001b[39m\u001b[39m*\u001b[39mkw)\n",
      "File \u001b[1;32mc:\\Users\\sheld\\anaconda3\\envs\\ML\\lib\\site-packages\\stable_baselines3\\common\\save_util.py:284\u001b[0m, in \u001b[0;36mopen_path_pathlib\u001b[1;34m(path, mode, verbose, suffix)\u001b[0m\n\u001b[0;32m    277\u001b[0m         path\u001b[39m.\u001b[39mparent\u001b[39m.\u001b[39mmkdir(exist_ok\u001b[39m=\u001b[39m\u001b[39mTrue\u001b[39;00m, parents\u001b[39m=\u001b[39m\u001b[39mTrue\u001b[39;00m)\n\u001b[0;32m    279\u001b[0m \u001b[39m# if opening was successful uses the identity function\u001b[39;00m\n\u001b[0;32m    280\u001b[0m \u001b[39m# if opening failed with IsADirectory|FileNotFound, calls open_path_pathlib\u001b[39;00m\n\u001b[0;32m    281\u001b[0m \u001b[39m#   with corrections\u001b[39;00m\n\u001b[0;32m    282\u001b[0m \u001b[39m# if reading failed with FileNotFoundError, calls open_path_pathlib with suffix\u001b[39;00m\n\u001b[1;32m--> 284\u001b[0m \u001b[39mreturn\u001b[39;00m open_path(path, mode, verbose, suffix)\n",
      "File \u001b[1;32mc:\\Users\\sheld\\anaconda3\\envs\\ML\\lib\\functools.py:889\u001b[0m, in \u001b[0;36msingledispatch.<locals>.wrapper\u001b[1;34m(*args, **kw)\u001b[0m\n\u001b[0;32m    885\u001b[0m \u001b[39mif\u001b[39;00m \u001b[39mnot\u001b[39;00m args:\n\u001b[0;32m    886\u001b[0m     \u001b[39mraise\u001b[39;00m \u001b[39mTypeError\u001b[39;00m(\u001b[39mf\u001b[39m\u001b[39m'\u001b[39m\u001b[39m{\u001b[39;00mfuncname\u001b[39m}\u001b[39;00m\u001b[39m requires at least \u001b[39m\u001b[39m'\u001b[39m\n\u001b[0;32m    887\u001b[0m                     \u001b[39m'\u001b[39m\u001b[39m1 positional argument\u001b[39m\u001b[39m'\u001b[39m)\n\u001b[1;32m--> 889\u001b[0m \u001b[39mreturn\u001b[39;00m dispatch(args[\u001b[39m0\u001b[39m]\u001b[39m.\u001b[39m\u001b[39m__class__\u001b[39m)(\u001b[39m*\u001b[39margs, \u001b[39m*\u001b[39m\u001b[39m*\u001b[39mkw)\n",
      "File \u001b[1;32mc:\\Users\\sheld\\anaconda3\\envs\\ML\\lib\\site-packages\\stable_baselines3\\common\\save_util.py:264\u001b[0m, in \u001b[0;36mopen_path_pathlib\u001b[1;34m(path, mode, verbose, suffix)\u001b[0m\n\u001b[0;32m    262\u001b[0m             path, suffix \u001b[39m=\u001b[39m newpath, \u001b[39mNone\u001b[39;00m\n\u001b[0;32m    263\u001b[0m         \u001b[39melse\u001b[39;00m:\n\u001b[1;32m--> 264\u001b[0m             \u001b[39mraise\u001b[39;00m error\n\u001b[0;32m    265\u001b[0m \u001b[39melse\u001b[39;00m:\n\u001b[0;32m    266\u001b[0m     \u001b[39mtry\u001b[39;00m:\n",
      "File \u001b[1;32mc:\\Users\\sheld\\anaconda3\\envs\\ML\\lib\\site-packages\\stable_baselines3\\common\\save_util.py:256\u001b[0m, in \u001b[0;36mopen_path_pathlib\u001b[1;34m(path, mode, verbose, suffix)\u001b[0m\n\u001b[0;32m    254\u001b[0m \u001b[39mif\u001b[39;00m mode \u001b[39m==\u001b[39m \u001b[39m\"\u001b[39m\u001b[39mr\u001b[39m\u001b[39m\"\u001b[39m:\n\u001b[0;32m    255\u001b[0m     \u001b[39mtry\u001b[39;00m:\n\u001b[1;32m--> 256\u001b[0m         path \u001b[39m=\u001b[39m path\u001b[39m.\u001b[39;49mopen(\u001b[39m\"\u001b[39;49m\u001b[39mrb\u001b[39;49m\u001b[39m\"\u001b[39;49m)\n\u001b[0;32m    257\u001b[0m     \u001b[39mexcept\u001b[39;00m \u001b[39mFileNotFoundError\u001b[39;00m \u001b[39mas\u001b[39;00m error:\n\u001b[0;32m    258\u001b[0m         \u001b[39mif\u001b[39;00m suffix \u001b[39mis\u001b[39;00m \u001b[39mnot\u001b[39;00m \u001b[39mNone\u001b[39;00m \u001b[39mand\u001b[39;00m suffix \u001b[39m!=\u001b[39m \u001b[39m\"\u001b[39m\u001b[39m\"\u001b[39m:\n",
      "File \u001b[1;32mc:\\Users\\sheld\\anaconda3\\envs\\ML\\lib\\pathlib.py:1117\u001b[0m, in \u001b[0;36mPath.open\u001b[1;34m(self, mode, buffering, encoding, errors, newline)\u001b[0m\n\u001b[0;32m   1115\u001b[0m \u001b[39mif\u001b[39;00m \u001b[39m\"\u001b[39m\u001b[39mb\u001b[39m\u001b[39m\"\u001b[39m \u001b[39mnot\u001b[39;00m \u001b[39min\u001b[39;00m mode:\n\u001b[0;32m   1116\u001b[0m     encoding \u001b[39m=\u001b[39m io\u001b[39m.\u001b[39mtext_encoding(encoding)\n\u001b[1;32m-> 1117\u001b[0m \u001b[39mreturn\u001b[39;00m \u001b[39mself\u001b[39;49m\u001b[39m.\u001b[39;49m_accessor\u001b[39m.\u001b[39;49mopen(\u001b[39mself\u001b[39;49m, mode, buffering, encoding, errors,\n\u001b[0;32m   1118\u001b[0m                            newline)\n",
      "\u001b[1;31mFileNotFoundError\u001b[0m: [Errno 2] No such file or directory: 'ML\\\\GameofGuts\\\\GutBot_50000_stepsA2C.zip'"
     ]
    }
   ],
   "source": [
    "device = \"cpu\"\n",
    "\n",
    "model = A2C(\"MlpPolicy\", env, device=device, verbose=1)\n",
    "#print(model.policy)\n",
    "\n",
    "save_directory = './ML/GameOfGuts'\n",
    "numberOfCheckpoints = 10\n",
    "totalTimeSteps = 25000\n",
    "checkpoint_callback = CheckpointCallback(save_freq=totalTimeSteps/numberOfCheckpoints, save_path=save_directory,\n",
    "                                         name_prefix='GutBot')\n",
    "\n",
    "#model.learn(total_timesteps=totalTimeSteps,callback=checkpoint_callback) \n",
    "model = model.load(\"ML/GameofGuts/GutBot_50000_stepsA2C\")\n",
    "\n",
    "obs = env.reset()\n",
    "#print(obs)\n",
    "total = []\n",
    "totalReward = 0"
   ]
  },
  {
   "cell_type": "code",
   "execution_count": 41,
   "metadata": {},
   "outputs": [],
   "source": [
    "def algorthim(obs,num):\n",
    "    if(obs[0] + obs[1] >= 100):\n",
    "        return 1\n",
    "    \n",
    "    if(obs[1] < num):\n",
    "        return 1\n",
    "    return 0"
   ]
  },
  {
   "cell_type": "code",
   "execution_count": 25,
   "metadata": {},
   "outputs": [],
   "source": [
    "\n",
    "obs = env.reset()\n",
    "#print(obs)\n",
    "total = []\n",
    "totalReward = 0\n",
    "\n",
    "x = []\n",
    "y = []\n"
   ]
  },
  {
   "cell_type": "code",
   "execution_count": 57,
   "metadata": {},
   "outputs": [
    {
     "name": "stdout",
     "output_type": "stream",
     "text": [
      "82 turns left\n",
      "38 turns left\n",
      "58 turns left\n",
      "36 turns left\n",
      "86 turns left\n",
      "49 turns left\n",
      "43 turns left\n",
      "128 turns left\n",
      "77 turns left\n",
      "33 turns left\n",
      "34 turns left\n",
      "32 turns left\n",
      "40 turns left\n",
      "89 turns left\n",
      "59 turns left\n",
      "53 turns left\n",
      "60 turns left\n",
      "32 turns left\n",
      "59 turns left\n",
      "68 turns left\n",
      "31 turns left\n",
      "29 turns left\n",
      "78 turns left\n",
      "39 turns left\n",
      "104 turns left\n",
      "65 turns left\n",
      "38 turns left\n",
      "108 turns left\n",
      "27 turns left\n",
      "141 turns left\n",
      "67 turns left\n",
      "83 turns left\n",
      "32 turns left\n",
      "30 turns left\n",
      "42 turns left\n",
      "37 turns left\n",
      "84 turns left\n",
      "58 turns left\n",
      "37 turns left\n",
      "58 turns left\n",
      "34 turns left\n",
      "48 turns left\n",
      "48 turns left\n",
      "42 turns left\n",
      "29 turns left\n",
      "35 turns left\n",
      "32 turns left\n",
      "44 turns left\n",
      "63 turns left\n",
      "49 turns left\n",
      "44 turns left\n",
      "52 turns left\n",
      "32 turns left\n",
      "94 turns left\n",
      "46 turns left\n",
      "238 turns left\n",
      "59 turns left\n",
      "33 turns left\n",
      "37 turns left\n",
      "111 turns left\n",
      "105 turns left\n",
      "159 turns left\n",
      "76 turns left\n",
      "34 turns left\n",
      "44 turns left\n",
      "41 turns left\n",
      "35 turns left\n",
      "65 turns left\n",
      "127 turns left\n",
      "101 turns left\n",
      "55 turns left\n",
      "30 turns left\n",
      "41 turns left\n",
      "29 turns left\n",
      "67 turns left\n",
      "31 turns left\n",
      "65 turns left\n",
      "42 turns left\n",
      "62 turns left\n",
      "29 turns left\n",
      "56 turns left\n",
      "26 turns left\n",
      "95 turns left\n",
      "60 turns left\n",
      "93 turns left\n",
      "30 turns left\n",
      "92 turns left\n",
      "31 turns left\n",
      "66 turns left\n",
      "93 turns left\n",
      "63 turns left\n",
      "34 turns left\n",
      "122 turns left\n",
      "64 turns left\n",
      "76 turns left\n",
      "116 turns left\n",
      "40 turns left\n",
      "46 turns left\n",
      "68 turns left\n",
      "37 turns left\n"
     ]
    }
   ],
   "source": [
    "i = 0\n",
    "for num in range(99):\n",
    "    while i < 100:\n",
    "        #action, _states = model.predict(obs, deterministic=True)\n",
    "        #action = int(input())\n",
    "        #print(action)\n",
    "        action = algorthim(obs,num)\n",
    "        \n",
    "        obs, reward, done, info = env.step(action)\n",
    "        #print(obs[\"board\"].reshape(10,10))\n",
    "        #env.render()\n",
    "        #print(obs)\n",
    "        if done:\n",
    "            i += 1\n",
    "            reward = 1000 - reward\n",
    "            print(f\"{reward} turns left\")\n",
    "            total.append(reward)\n",
    "            obs = env.reset()\n",
    "            reward = 0\n",
    "\n",
    "    x.append(num)\n",
    "    y.append(np.mean(total))\n",
    "    print(num,1000-np.mean(total))\n",
    "    \n",
    "    "
   ]
  },
  {
   "cell_type": "code",
   "execution_count": 37,
   "metadata": {},
   "outputs": [
    {
     "name": "stdout",
     "output_type": "stream",
     "text": [
      "1 104.0\n"
     ]
    }
   ],
   "source": [
    "print(x[0],y[0])\n"
   ]
  },
  {
   "cell_type": "code",
   "execution_count": 38,
   "metadata": {},
   "outputs": [
    {
     "data": {
      "image/png": "[encoded data removed]",
      "text/plain": [
       "<Figure size 640x480 with 1 Axes>"
      ]
     },
     "metadata": {},
     "output_type": "display_data"
    }
   ],
   "source": [
    "\n",
    "plt.plot(x,y)\n",
    "\n",
    "# naming the x axis\n",
    "plt.xlabel('Critical Point')\n",
    "# naming the y axis\n",
    "plt.ylabel('Amount of Turns')\n",
    "  \n",
    "# giving a title to my graph\n",
    "plt.title('Critical Point vs Amount of Turns')\n",
    "  \n",
    "# function to show the plot\n",
    "plt.show()"
   ]
  },
  {
   "cell_type": "code",
   "execution_count": 29,
   "metadata": {},
   "outputs": [
    {
     "name": "stdout",
     "output_type": "stream",
     "text": [
      "12 62.668756027000995\n"
     ]
    },
    {
     "data": {
      "image/png": "[encoded data removed]",
      "text/plain": [
       "<Figure size 640x480 with 1 Axes>"
      ]
     },
     "metadata": {},
     "output_type": "display_data"
    }
   ],
   "source": [
    "i = np.argmin(y)\n",
    "x_min = x[i]\n",
    "y_min = y[i]\n",
    "plt.plot(x_min, y_min, marker='o')\n",
    "print(x_min,y_min)"
   ]
  }
 ],
 "metadata": {
  "kernelspec": {
   "display_name": "ML",
   "language": "python",
   "name": "python3"
  },
  "language_info": {
   "codemirror_mode": {
    "name": "ipython",
    "version": 3
   },
   "file_extension": ".py",
   "mimetype": "text/x-python",
   "name": "python",
   "nbconvert_exporter": "python",
   "pygments_lexer": "ipython3",
   "version": "3.10.4"
  },
  "orig_nbformat": 4,
  "vscode": {
   "interpreter": {
    "hash": "5163b8bdd970f49bcc323da0f28124f2ae35de00e3448525b71ead4613466cfd"
   }
  }
 },
 "nbformat": 4,
 "nbformat_minor": 2
}
